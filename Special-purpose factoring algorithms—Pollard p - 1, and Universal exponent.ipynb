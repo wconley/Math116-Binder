{
 "cells": [
  {
   "cell_type": "code",
   "execution_count": 3,
   "id": "5db094e3",
   "metadata": {
    "collapsed": false,
    "jupyter": {
     "outputs_hidden": false
    }
   },
   "outputs": [],
   "source": [
    "from random import randint, choices\n",
    "from math import sqrt\n",
    "from collections import Counter\n",
    "import functools\n",
    "import operator\n",
    "\n",
    "from math116 import gcd, PRIMES"
   ]
  },
  {
   "cell_type": "code",
   "execution_count": 2,
   "id": "3bad69a2-91fd-4b7c-8050-c8d0b7dd5f83",
   "metadata": {},
   "outputs": [],
   "source": [
    "def factor_trial_division(n):\n",
    "    factorization = Counter()\n",
    "    for p in range(2, int(sqrt(n))+1):\n",
    "        while n % p == 0:\n",
    "            n //= p\n",
    "            factorization[p] += 1\n",
    "        if n == 1:\n",
    "            break\n",
    "    else:\n",
    "        factorization[n] += 1\n",
    "    return factorization\n"
   ]
  },
  {
   "cell_type": "markdown",
   "id": "fbf68b71-060c-489b-a660-da4a574682e3",
   "metadata": {},
   "source": [
    "<br>\n",
    "<br>\n",
    "<br>\n",
    "<br>\n",
    "<br>\n",
    "\n",
    "<br>\n",
    "<br>\n",
    "<br>\n",
    "<br>\n",
    "<br>\n",
    "\n",
    "<br>\n",
    "<br>\n",
    "<br>\n",
    "<br>\n",
    "<br>\n"
   ]
  },
  {
   "cell_type": "markdown",
   "id": "37f47a4b-a99e-49dd-90ed-7bae4251d364",
   "metadata": {},
   "source": [
    "# The Pollard $p - 1$ factoring algorithm\n",
    "\n",
    "The following $n$ is a HUUUGE number, but I can tell you that it's a product of two distinct primes $p$ and $q$, and for one of those primes, say $p$, the prime factorization of $p - 1$ consists of only “small” primes. (Here, small means less than $10,000$.) "
   ]
  },
  {
   "cell_type": "code",
   "execution_count": 1,
   "id": "df098b3b-47e9-4452-9c75-9695894256ef",
   "metadata": {},
   "outputs": [
    {
     "data": {
      "text/plain": [
       "2239332907938581313469088389912512958057802576035761509229975467371182328060818083073676768485093593645763783667457921296975290033841289567043469817303445760096469064626421472161772553673773806747901501872070212354354113010628328892533044385969492185194049030101052775356312098127825589510344808829251642945946465745199152984753448779786102568580113217718729863705132547058109475329984859895531956721977"
      ]
     },
     "execution_count": 1,
     "metadata": {},
     "output_type": "execute_result"
    }
   ],
   "source": [
    "n = 2239332907938581313469088389912512958057802576035761509229975467371182328060818083073676768485093593645763783667457921296975290033841289567043469817303445760096469064626421472161772553673773806747901501872070212354354113010628328892533044385969492185194049030101052775356312098127825589510344808829251642945946465745199152984753448779786102568580113217718729863705132547058109475329984859895531956721977\n",
    "n"
   ]
  },
  {
   "cell_type": "code",
   "execution_count": 4,
   "id": "b4488788-7f7b-4e8d-bde2-f0bbfff33ce5",
   "metadata": {},
   "outputs": [
    {
     "name": "stdout",
     "output_type": "stream",
     "text": [
      "At k = 200:\n",
      "    Got nothing so far...\n",
      "At k = 400:\n",
      "    Got nothing so far...\n",
      "At k = 600:\n",
      "    Got nothing so far...\n",
      "At k = 800:\n",
      "    Got nothing so far...\n",
      "At k = 1000:\n",
      "    Got nothing so far...\n",
      "At k = 1200:\n",
      "    Got nothing so far...\n",
      "At k = 1400:\n",
      "    Got nothing so far...\n",
      "At k = 1600:\n",
      "    Got nothing so far...\n",
      "At k = 1800:\n",
      "    Got nothing so far...\n",
      "At k = 2000:\n",
      "    Got nothing so far...\n",
      "At k = 2200:\n",
      "    Got nothing so far...\n",
      "At k = 2400:\n",
      "    Got nothing so far...\n",
      "At k = 2600:\n",
      "    Got nothing so far...\n",
      "At k = 2800:\n",
      "    Got nothing so far...\n",
      "At k = 3000:\n",
      "    Got nothing so far...\n",
      "At k = 3200:\n",
      "    Got nothing so far...\n",
      "At k = 3400:\n",
      "    Got nothing so far...\n",
      "At k = 3600:\n",
      "    Got nothing so far...\n",
      "At k = 3800:\n",
      "    Got nothing so far...\n",
      "At k = 4000:\n",
      "    Got nothing so far...\n",
      "At k = 4200:\n",
      "    Got nothing so far...\n",
      "At k = 4400:\n",
      "    Got nothing so far...\n",
      "At k = 4600:\n",
      "    Got nothing so far...\n",
      "At k = 4800:\n",
      "    Got nothing so far...\n",
      "At k = 5000:\n",
      "    Got nothing so far...\n",
      "At k = 5200:\n",
      "    Got nothing so far...\n",
      "At k = 5400:\n",
      "    Got nothing so far...\n",
      "At k = 5600:\n",
      "    Got nothing so far...\n",
      "At k = 5800:\n",
      "    Got nothing so far...\n",
      "At k = 6000:\n",
      "    Got nothing so far...\n",
      "At k = 6200:\n",
      "    Got nothing so far...\n",
      "At k = 6400:\n",
      "    Got nothing so far...\n",
      "At k = 6600:\n",
      "    Got nothing so far...\n",
      "At k = 6800:\n",
      "    Got nothing so far...\n",
      "At k = 7000:\n",
      "    Got nothing so far...\n",
      "At k = 7200:\n",
      "    Got nothing so far...\n",
      "At k = 7400:\n",
      "    Got nothing so far...\n",
      "At k = 7600:\n",
      "    Got nothing so far...\n",
      "At k = 7800:\n",
      "    Got nothing so far...\n",
      "At k = 8000:\n",
      "    Got nothing so far...\n",
      "At k = 8200:\n",
      "    Got nothing so far...\n",
      "At k = 8400:\n",
      "    Got nothing so far...\n",
      "At k = 8600:\n",
      "    Got nothing so far...\n",
      "At k = 8800:\n",
      "    Got nothing so far...\n",
      "At k = 9000:\n",
      "    Got nothing so far...\n",
      "At k = 9200:\n",
      "    Got nothing so far...\n",
      "At k = 9400:\n",
      "    Got nothing so far...\n",
      "At k = 9600:\n",
      "    Got nothing so far...\n",
      "At k = 9800:\n",
      "    Got nothing so far...\n",
      "At k = 10000:\n",
      "    Got nothing so far...\n",
      "At k = 10200:\n",
      "    Got nothing so far...\n",
      "At k = 10400:\n",
      "    Got nothing so far...\n",
      "At k = 10600:\n",
      "    Got nothing so far...\n",
      "At k = 10800:\n",
      "    Got nothing so far...\n",
      "At k = 11000:\n",
      "    Got nothing so far...\n",
      "At k = 11200:\n",
      "    Got nothing so far...\n",
      "At k = 11400:\n",
      "    Got nothing so far...\n",
      "At k = 11600:\n",
      "    Got nothing so far...\n",
      "At k = 11800:\n",
      "    Got nothing so far...\n",
      "At k = 12000:\n",
      "    Got nothing so far...\n",
      "At k = 12200:\n",
      "    Got nothing so far...\n",
      "At k = 12400:\n",
      "    Got nothing so far...\n",
      "At k = 12600:\n",
      "    Got nothing so far...\n",
      "At k = 12800:\n",
      "    Got nothing so far...\n",
      "At k = 13000:\n",
      "    Got nothing so far...\n",
      "At k = 13200:\n",
      "    Got nothing so far...\n",
      "At k = 13400:\n",
      "    Got nothing so far...\n",
      "At k = 13600:\n",
      "    Got nothing so far...\n",
      "At k = 13800:\n",
      "    Got nothing so far...\n",
      "At k = 14000:\n",
      "    Got nothing so far...\n",
      "At k = 14200:\n",
      "    Got nothing so far...\n",
      "At k = 14400:\n",
      "    Got a factor! 693665714147229674509184791321202377731984497171167861139055088250516471124728701516823108795490715849715041158690827168199567641473669634945238157023642773331939876536987847320603535561143812042944678794061867000000000001\n"
     ]
    }
   ],
   "source": [
    "b = 2 # This is the base we'll use. If this doesn't work, try another! \n",
    "power = b # This variable will be b^(k!) (mod n) at step k. Initialize to b = b^1. \n",
    "for k in range(2, 20000): # k is our counter. We start at 2, because the next step is to compute b^2\n",
    "    power = pow(power, k, n) # Again, power is our “running total”. Here power = power^k (mod n)\n",
    "    if k % 200 == 0: # Every 200th step, print a status update\n",
    "        print(f\"At k = {k}:\")\n",
    "        if power == 1:\n",
    "            print(\"The Pollard p - 1 algorithm has failed for this base.\")\n",
    "            print(f\"You could try the exponent factoring algorithm with base b = {b} and exponent {k}!, or\")\n",
    "            print(\"just try this again with another base.\")\n",
    "            break\n",
    "        factor = gcd(power - 1, n)\n",
    "        if factor == 1:\n",
    "            print(\"    Got nothing so far...\")\n",
    "        else:\n",
    "            print(f\"    Got a factor! {factor}\")\n",
    "            break\n"
   ]
  },
  {
   "cell_type": "code",
   "execution_count": 7,
   "id": "550c07b3-2e9d-4031-9387-7155379ab475",
   "metadata": {},
   "outputs": [
    {
     "data": {
      "text/plain": [
       "693665714147229674509184791321202377731984497171167861139055088250516471124728701516823108795490715849715041158690827168199567641473669634945238157023642773331939876536987847320603535561143812042944678794061867000000000001"
      ]
     },
     "execution_count": 7,
     "metadata": {},
     "output_type": "execute_result"
    }
   ],
   "source": [
    "p = factor\n",
    "q = n // factor\n",
    "p"
   ]
  },
  {
   "cell_type": "code",
   "execution_count": 8,
   "id": "b57f4c49-124a-490b-b387-169ce3b9711a",
   "metadata": {},
   "outputs": [
    {
     "data": {
      "text/plain": [
       "3228259466004522349879394297533129714581703356135482193889653727790206469046813734744014605439297673295110276018728182288383668087864658837142064029109708327107728308836531956721977"
      ]
     },
     "execution_count": 8,
     "metadata": {},
     "output_type": "execute_result"
    }
   ],
   "source": [
    "q"
   ]
  },
  {
   "cell_type": "code",
   "execution_count": 9,
   "id": "9adeb8af-9c93-4631-9c7f-f2a0913241ec",
   "metadata": {},
   "outputs": [
    {
     "data": {
      "text/plain": [
       "True"
      ]
     },
     "execution_count": 9,
     "metadata": {},
     "output_type": "execute_result"
    }
   ],
   "source": [
    "n == p * q"
   ]
  },
  {
   "cell_type": "code",
   "execution_count": 10,
   "id": "4afc251a-eb1e-43c0-95ff-609fa0e72211",
   "metadata": {},
   "outputs": [
    {
     "data": {
      "text/plain": [
       "Counter({3: 19,\n",
       "         7: 15,\n",
       "         11: 13,\n",
       "         13: 13,\n",
       "         2: 12,\n",
       "         5: 12,\n",
       "         4759: 3,\n",
       "         199: 2,\n",
       "         73: 1,\n",
       "         83: 1,\n",
       "         149: 1,\n",
       "         359: 1,\n",
       "         479: 1,\n",
       "         599: 1,\n",
       "         797: 1,\n",
       "         859: 1,\n",
       "         877: 1,\n",
       "         907: 1,\n",
       "         977: 1,\n",
       "         1019: 1,\n",
       "         1153: 1,\n",
       "         1289: 1,\n",
       "         1307: 1,\n",
       "         1409: 1,\n",
       "         1483: 1,\n",
       "         1543: 1,\n",
       "         1637: 1,\n",
       "         1699: 1,\n",
       "         1723: 1,\n",
       "         1741: 1,\n",
       "         1789: 1,\n",
       "         1873: 1,\n",
       "         2003: 1,\n",
       "         2129: 1,\n",
       "         2143: 1,\n",
       "         2237: 1,\n",
       "         2389: 1,\n",
       "         2749: 1,\n",
       "         2791: 1,\n",
       "         2843: 1,\n",
       "         2953: 1,\n",
       "         3623: 1,\n",
       "         3691: 1,\n",
       "         3697: 1,\n",
       "         3863: 1,\n",
       "         4219: 1,\n",
       "         4357: 1,\n",
       "         4729: 1,\n",
       "         4943: 1,\n",
       "         5119: 1,\n",
       "         5651: 1,\n",
       "         6151: 1,\n",
       "         6947: 1})"
      ]
     },
     "execution_count": 10,
     "metadata": {},
     "output_type": "execute_result"
    }
   ],
   "source": [
    "factor_trial_division(p - 1)"
   ]
  },
  {
   "cell_type": "markdown",
   "id": "bd3ca2f8-c315-448c-9918-fa8e9f0583c3",
   "metadata": {},
   "source": [
    "### Note: The reason that we had to go as high as $14400$ in the above algorithm... \n",
    "\n",
    "is because, although the largest prime that appears in the factorization of $p - 1$ is $6947$ (which would imply we only need to go up to about $7000$), the prime $4759$ appears to the 3rd power. And $4759 \\cdot 3 = 14277$. So in fact \n",
    "$$ (p - 1) \\nmid 7000! \\qquad \\text{but} \\qquad (p - 1) \\mid 14400! $$"
   ]
  },
  {
   "cell_type": "markdown",
   "id": "d5d8fb0d-c7a4-4b74-8987-da0134f03e92",
   "metadata": {},
   "source": [
    "<br>\n",
    "<br>\n",
    "<br>\n",
    "<br>\n",
    "<br>\n",
    "\n",
    "<br>\n",
    "<br>\n",
    "<br>\n",
    "<br>\n",
    "<br>\n",
    "\n",
    "<br>\n",
    "<br>\n",
    "<br>\n",
    "<br>\n",
    "<br>\n"
   ]
  },
  {
   "cell_type": "markdown",
   "id": "0f727baa-29a9-4cd4-a0e5-1b3da435bb32",
   "metadata": {},
   "source": [
    "# The Universal Exponent factoring algorithm\n",
    "\n",
    "Recall that a ***universal exponent*** for $n$ is a positive integer $e$ such that, for all integers $b$ that are coprime to $n$, we have \n",
    "$$ b^e \\equiv 1 \\pmod{n} $$\n",
    "From Euler's Theorem, the Euler phi function $\\phi(n)$ is always a universal exponent for $n$. \n",
    "\n",
    "The universal exponent factoring algorithm shows that knowing a universal exponent for $n$ allows us to find a nontrivial factorization of $n$. In particular, for the RSA cryptosystem, this means that knowing the private exponent $d$ (along with the public exponent $e$, which we assume everyone knows) is equivalent to knowing the factorization of the public modulus $n$. "
   ]
  },
  {
   "cell_type": "markdown",
   "id": "c61cc189-00a1-4ce1-8a1b-433dc0b815ff",
   "metadata": {},
   "source": [
    "<br>\n",
    "<br>\n",
    "<br>\n",
    "<br>\n",
    "<br>\n"
   ]
  },
  {
   "cell_type": "markdown",
   "id": "4e9ebdf8-3ff1-4c36-8a95-e92cbc4efea3",
   "metadata": {},
   "source": [
    "## The following data were taken from an actual RSA public/private key pair\n",
    "\n",
    "that I used on my personal website. This particular key pair was retired in late 2021, so I have no problem sharing the full details with you now. "
   ]
  },
  {
   "cell_type": "code",
   "execution_count": 12,
   "id": "da8f75d5-f396-4faa-9316-cdb5eb66f128",
   "metadata": {},
   "outputs": [],
   "source": [
    "def parse_hex(hex):\n",
    "    return int(\"\".join([c for c in hex if c in \"0123456789abcdefABCDEF\"]), base=16)\n"
   ]
  },
  {
   "cell_type": "code",
   "execution_count": 13,
   "id": "eaff13e6-1d17-4ef1-bad5-7c56cde20736",
   "metadata": {},
   "outputs": [],
   "source": [
    "public_modulus = \"\"\"\n",
    "    00:c4:60:46:0d:ac:1a:cc:19:d8:1c:82:b0:7f:bd:\n",
    "    06:2a:a4:95:fd:ac:cf:de:fa:0b:b7:3d:0e:ea:0c:\n",
    "    8d:cc:bf:cc:cf:27:64:17:ea:0e:9d:43:c6:35:c3:\n",
    "    4f:b2:ea:a0:9d:11:26:35:72:b2:3e:7b:74:7f:af:\n",
    "    ce:f3:49:be:33:03:64:9f:c4:0f:38:ad:fb:2b:cf:\n",
    "    6c:9a:42:0a:87:8c:02:6a:b9:ae:91:75:71:8d:da:\n",
    "    be:07:de:f0:47:d3:5f:3b:99:1c:ef:7d:af:c2:fe:\n",
    "    4f:3d:11:47:5e:f1:b9:3d:a6:43:2b:c4:cc:7d:c6:\n",
    "    3a:e9:f8:a9:2b:07:c9:db:d6:82:92:18:3b:51:06:\n",
    "    10:03:12:c2:28:ce:04:2b:57:11:7d:ea:a0:98:ca:\n",
    "    6d:6b:76:5d:95:f6:cd:4b:67:ab:b9:f6:37:28:3b:\n",
    "    90:34:c9:49:1f:94:04:63:cf:c4:66:81:92:13:72:\n",
    "    f8:74:9c:a4:41:0c:0c:39:5e:63:71:c4:d6:8e:4d:\n",
    "    c7:47:41:6c:91:a2:b3:67:4e:18:f3:2e:10:4f:0d:\n",
    "    c1:18:8c:5b:87:e6:bc:43:7a:d0:4d:31:fa:20:83:\n",
    "    80:ee:d1:61:0b:02:c6:64:94:b1:4a:2c:55:c3:bc:\n",
    "    6a:23:3a:32:6f:c8:d1:95:b6:65:16:5e:55:e6:ac:\n",
    "    7d:e2:10:6e:f1:3f:36:16:67:90:66:58:a4:3f:a7:\n",
    "    d9:32:7f:70:05:9d:47:9f:43:8c:71:23:d9:e0:43:\n",
    "    b9:ef:91:10:ae:6f:65:67:9d:2d:65:28:94:3f:3e:\n",
    "    7b:9f:4e:10:0a:fa:b4:c6:71:35:66:5d:1c:6c:0a:\n",
    "    b9:70:50:ec:8d:dd:3f:67:b2:53:d4:70:25:27:76:\n",
    "    70:39:b4:bb:9f:e0:2b:11:c6:22:d1:1c:61:cf:56:\n",
    "    09:03:dd:93:8b:53:65:a8:69:21:a9:60:de:7d:0f:\n",
    "    62:9b:2f:13:99:ae:50:15:73:93:55:ef:1e:7a:73:\n",
    "    0e:e0:a4:33:60:f7:ba:89:b2:e2:30:06:aa:5d:40:\n",
    "    a7:05:47:44:b9:e3:8a:1d:58:e1:d3:fe:7a:8d:d0:\n",
    "    40:7c:09:33:13:3f:e2:93:f1:bb:c3:8a:54:ec:43:\n",
    "    b8:91:81:42:2a:c2:c1:c3:ea:dd:36:3a:73:e2:5c:\n",
    "    a8:ea:96:9f:15:71:90:ff:56:46:26:0a:9a:b9:f2:\n",
    "    5b:c2:c3:0c:0a:3f:7d:59:70:b6:0f:54:1d:9e:5c:\n",
    "    3e:a0:c9:a7:24:2d:1d:60:36:f5:6b:31:2a:74:aa:\n",
    "    af:59:36:32:f0:3d:d4:f6:64:39:48:82:1e:6c:05:\n",
    "    2a:c4:92:32:60:5f:72:0c:39:39:93:fd:0a:5a:dd:\n",
    "    17:38:75\n",
    "\"\"\"\n",
    "\n",
    "private_exponent = \"\"\"\n",
    "    44:96:83:a1:3e:dd:55:30:29:a5:3b:98:3d:e5:5d:\n",
    "    84:03:5c:47:ef:d5:e2:c1:5e:da:2f:3f:48:4b:fe:\n",
    "    32:e7:42:b7:8f:c0:8c:01:b9:fc:ff:b0:f9:12:30:\n",
    "    82:03:24:f9:f7:05:6b:61:96:13:f0:b6:ad:ea:4f:\n",
    "    d3:f5:8b:b2:f1:9a:71:9a:de:de:23:16:39:25:07:\n",
    "    7f:91:55:70:26:5c:a9:be:14:d4:c5:3a:56:1b:72:\n",
    "    87:f9:3b:df:3a:5a:66:cc:81:a8:bc:33:69:5d:bd:\n",
    "    7b:4c:cf:aa:bf:ae:bd:73:96:be:70:cc:23:99:da:\n",
    "    f5:e1:5d:e4:a3:a1:c3:60:d6:d6:04:14:a3:a6:04:\n",
    "    6d:ae:5d:96:36:ee:89:dc:ad:45:57:6f:a4:2d:ff:\n",
    "    ad:aa:f7:e0:eb:04:a5:33:9e:6d:23:2b:fc:a7:61:\n",
    "    24:ae:b1:15:90:73:40:11:4f:3d:a6:3f:c8:ff:3c:\n",
    "    fc:2d:c1:c8:de:56:5e:ab:32:fc:87:8d:90:c2:65:\n",
    "    b9:e3:85:f2:0f:eb:ad:47:3f:bb:9f:f9:1e:43:65:\n",
    "    90:17:65:d8:bf:a4:3d:c5:65:7f:b0:d6:f6:08:38:\n",
    "    3e:31:6f:3d:93:48:8b:d4:cb:5f:66:c0:c5:ce:c7:\n",
    "    1b:6a:b6:37:08:e2:fa:f1:6b:b9:36:55:b6:6d:c4:\n",
    "    c1:55:b9:b1:46:3e:0f:c3:f0:af:b9:9a:ec:7e:29:\n",
    "    fe:c4:db:46:31:b7:d2:c6:ba:55:2e:5d:43:6e:7c:\n",
    "    9e:f0:2a:a9:ba:35:85:76:5c:05:8e:5b:99:9a:89:\n",
    "    fa:2d:df:ef:97:77:3e:e0:e8:93:ef:a1:c9:39:d3:\n",
    "    f2:7e:8e:91:10:f7:5d:fe:6b:ba:1d:66:7e:ae:79:\n",
    "    11:d3:22:23:7a:9b:22:50:61:79:b8:34:18:b3:bc:\n",
    "    18:00:51:ce:56:85:90:52:67:ea:ee:b7:cd:2f:01:\n",
    "    cd:63:55:90:0a:9b:e2:22:a2:20:fc:0d:0b:42:a9:\n",
    "    8c:03:23:f3:18:61:89:95:91:5a:17:a0:76:96:7d:\n",
    "    93:58:ab:ec:58:6c:55:13:1e:32:75:0c:9c:f2:07:\n",
    "    35:21:e3:99:50:70:68:b4:23:a6:93:6b:64:a5:9b:\n",
    "    5d:1f:36:14:5d:fb:81:1f:07:3e:21:2e:13:59:5c:\n",
    "    4c:e4:89:c9:74:b7:40:08:ba:03:53:86:7f:04:d1:\n",
    "    b0:00:98:4c:ce:4d:8b:6e:af:93:a1:9a:88:3a:c6:\n",
    "    0e:d1:71:38:ab:f7:3c:5f:c1:db:25:c9:e5:61:18:\n",
    "    3b:f4:9d:a5:14:2d:9e:2e:fd:0b:a1:c4:f5:a4:57:\n",
    "    46:4b:38:16:b8:06:e7:cf:01:6f:9d:d5:50:44:39:\n",
    "    d4:81\n",
    "\"\"\"\n",
    "\n",
    "n = parse_hex(public_modulus)\n",
    "e = 65537\n",
    "d = parse_hex(private_exponent)\n"
   ]
  },
  {
   "cell_type": "code",
   "execution_count": 14,
   "id": "f1df7961-e8e7-46a7-87ed-2f48ce4618a2",
   "metadata": {},
   "outputs": [
    {
     "data": {
      "text/plain": [
       "801144464712063284256009829722948059600334895316910030357292279201810475414042337105107014358406205775286550888121251094427205084856555432505266110155161927602846593511678608325141132785709039293700250353271457822802185454796266476769990037171405229835951878529062397475891607515899512286623289401976652980143507223517714581584739996010919780642524878631335981298471102533166018792800937925057130570634286138424308134298617400942809944621463662550787276627413841710791551685675545223760412919105482672933878001484966727036867744130988949297286470571835066253713912280975436289034502801908005002498195086976418913120472026864728146571697502481745538353113190824671823617047722432629083493557187620143391095201502175504134185168310355243008178137737201060448825661112310437628189751165667011484860178296087039453240834404633229019314339842281895192986321716122142501264304028466940448359519500147867805518413528180931548592083708837367259007930488092264322690683058980404227407354546559356164396890109896338775250757645398800576522423976588964354780912452729093499881187946150087792744215158717825947903872895551250842315825485096723674895097372505642837160359541978146935056120953457880929546275943730300947783918250540474597543196789"
      ]
     },
     "execution_count": 14,
     "metadata": {},
     "output_type": "execute_result"
    }
   ],
   "source": [
    "n"
   ]
  },
  {
   "cell_type": "code",
   "execution_count": 15,
   "id": "290019a4-9b02-44c0-bfd9-f1c050368825",
   "metadata": {},
   "outputs": [
    {
     "name": "stdout",
     "output_type": "stream",
     "text": [
      "The public modulus n has 4096 bits (i.e. 1233 digits in base 10)\n"
     ]
    }
   ],
   "source": [
    "print(f\"The public modulus n has {len(f'{n:b}')} bits (i.e. {len(f'{n}')} digits in base 10)\")"
   ]
  },
  {
   "cell_type": "code",
   "execution_count": 16,
   "id": "9e187a9a-1be0-415f-97a4-0627dd0fd4bb",
   "metadata": {},
   "outputs": [
    {
     "data": {
      "text/plain": [
       "279814407086975732435419152575770649926784347068130530767023517569150888539716939993223668441703435466931796539803400179309988623103995511696378248339894357734244144917868125555983345735460578138041087181079141089215893694558593460995545599445404362588231663022876211578545842745913603555866260195175940105825486066593229576765410356114713120510664120601664412651204716984057405285063604820247458973737260016609433040787575755795671447157869649751858046019828537112776273221006656242609149819465713999472915566077038747301126122086124434280099597347899730938973579079169442248744980226981311846852673841355115872275604729479970874982361290425925590940010926135785819336085868683261385273688115364279405458524703279419474208870494410877637148591120824611714848994747945090409173820393632929432770562276420396875816593344327035047924889629660516000057827950077096591149376652573161852035231399594869618909703034578735110472201870946661915264919468284536645841008629533200052305619866924431539275338998767185988444846595496600073545931253177936035790411734103152229167259792159154532906135987666389891715782898233678521840095498218854754024819018231314832470090929147573477202139603946451805150129918946455941720563932955274088602522753"
      ]
     },
     "execution_count": 16,
     "metadata": {},
     "output_type": "execute_result"
    }
   ],
   "source": [
    "d"
   ]
  },
  {
   "cell_type": "code",
   "execution_count": 17,
   "id": "05ed6c6c-f480-486a-ac46-af6db84d76d8",
   "metadata": {},
   "outputs": [
    {
     "name": "stdout",
     "output_type": "stream",
     "text": [
      "The private exponent d has 4095 bits (i.e. 1233 digits in base 10)\n"
     ]
    }
   ],
   "source": [
    "print(f\"The private exponent d has {len(f'{d:b}')} bits (i.e. {len(f'{d}')} digits in base 10)\")"
   ]
  },
  {
   "cell_type": "markdown",
   "id": "0912a2b5-a023-458b-ac2c-a3c482efa875",
   "metadata": {},
   "source": [
    "<br>\n",
    "<br>\n",
    "<br>\n",
    "<br>\n",
    "<br>\n"
   ]
  },
  {
   "cell_type": "markdown",
   "id": "ed5c7181-df2b-4681-95c2-3aa88cfcc8a3",
   "metadata": {},
   "source": [
    "## Remember, the way this algorithm works is just like the Miller–Rabin pseudoprime test. \n",
    "\n",
    "The only difference is that ***you know*** that at some point within those $k$ steps, you'll eventually get $1$. "
   ]
  },
  {
   "cell_type": "code",
   "execution_count": 18,
   "id": "226890d0-1dfb-4a7a-971a-ca8489731c00",
   "metadata": {},
   "outputs": [
    {
     "data": {
      "text/plain": [
       "7"
      ]
     },
     "execution_count": 18,
     "metadata": {},
     "output_type": "execute_result"
    }
   ],
   "source": [
    "E = e*d - 1\n",
    "k = 0\n",
    "q = E\n",
    "while q % 2 == 0:\n",
    "    k += 1\n",
    "    q //= 2\n",
    "k"
   ]
  },
  {
   "cell_type": "code",
   "execution_count": 19,
   "id": "8fd78a8f-90e6-4880-9327-3137cdc262b6",
   "metadata": {},
   "outputs": [
    {
     "data": {
      "text/plain": [
       "143267162478586942004844257830924070970716138701594301522487658366636263923651789815124215302061859767158665233039808105870615034315363701953480791105091066584602800980330651129394379136444374292443740082706122418468297070783488591041133374616042700866757332027579986548618428875304217470631305425087856146214725627705628802909958582099140263897714019311494379780640652632688829454431355227379357177826709450847909478078869939902975934628010181529590005953136740912187645453789947110717780091549410143620753651984303815483389864555924508198553807120228942707402433219621310442624998196372454957087372543288204913447861774655694150263429780395655355104964813016882775326789527936678917239700765754912339027619792803307141259583949939106935201618877230332640281707568719354610515817712011885126839721405545027734768688109430944499498855403586415914810858362220333431985599200622557096069007501837882579800665685759270022929817922001807671411851774945028735613142051200916654905886009520519295230374155954727094724296182258286554843591379215018702949970420452486622210427382802613364242729954872595268229509873449535853795580770834133468863473156233013126371815228308941585745286118936239155891594253890577211347973425578826546443308856745"
      ]
     },
     "execution_count": 19,
     "metadata": {},
     "output_type": "execute_result"
    }
   ],
   "source": [
    "q"
   ]
  },
  {
   "cell_type": "code",
   "execution_count": 20,
   "id": "1914827c-455a-4714-9bcb-9d500492f07b",
   "metadata": {},
   "outputs": [
    {
     "data": {
      "text/plain": [
       "False"
      ]
     },
     "execution_count": 20,
     "metadata": {},
     "output_type": "execute_result"
    }
   ],
   "source": [
    "b = 2\n",
    "a0 = pow(b, q, n)\n",
    "a0 == n - 1 or a0 == 1"
   ]
  },
  {
   "cell_type": "code",
   "execution_count": 21,
   "id": "033115c0-d4d0-44b0-b40a-0955adeedfa8",
   "metadata": {},
   "outputs": [
    {
     "data": {
      "text/plain": [
       "False"
      ]
     },
     "execution_count": 21,
     "metadata": {},
     "output_type": "execute_result"
    }
   ],
   "source": [
    "a1 = a0 * a0 % n\n",
    "a1 == n - 1 or a1 == 1"
   ]
  },
  {
   "cell_type": "code",
   "execution_count": 22,
   "id": "b0b1f997-8329-408f-b9df-4693aa884d26",
   "metadata": {},
   "outputs": [
    {
     "data": {
      "text/plain": [
       "False"
      ]
     },
     "execution_count": 22,
     "metadata": {},
     "output_type": "execute_result"
    }
   ],
   "source": [
    "a2 = a1 * a1 % n\n",
    "a2 == n - 1 or a2 == 1"
   ]
  },
  {
   "cell_type": "code",
   "execution_count": 23,
   "id": "c6b43bdc-9b3f-4876-81bc-d71463a17af8",
   "metadata": {},
   "outputs": [
    {
     "data": {
      "text/plain": [
       "True"
      ]
     },
     "execution_count": 23,
     "metadata": {},
     "output_type": "execute_result"
    }
   ],
   "source": [
    "a3 = a2 * a2 % n\n",
    "a3 == n - 1 or a3 == 1"
   ]
  },
  {
   "cell_type": "code",
   "execution_count": 24,
   "id": "abe239a2-afd3-4d40-9058-e22d018bb01e",
   "metadata": {},
   "outputs": [
    {
     "data": {
      "text/plain": [
       "1"
      ]
     },
     "execution_count": 24,
     "metadata": {},
     "output_type": "execute_result"
    }
   ],
   "source": [
    "a3"
   ]
  },
  {
   "cell_type": "markdown",
   "id": "f5380592-8a30-4323-9f0b-97005567a361",
   "metadata": {},
   "source": [
    "<br>\n",
    "<br>\n",
    "<br>\n",
    "<br>\n",
    "<br>\n"
   ]
  },
  {
   "cell_type": "markdown",
   "id": "9d7a01f0-7065-410d-bed4-f350479ceab8",
   "metadata": {},
   "source": [
    "## The above work shows that $a_2 \\not\\equiv \\pm 1 \\pmod{n}$, but $a_2^2 \\equiv 1 \\pmod{n}$. \n",
    "\n",
    "Therefore $\\gcd(a_2 - 1, n)$ is a nontrivial factor of $n$ (and likewise, so is $\\gcd(a_2 + 1, n)$. "
   ]
  },
  {
   "cell_type": "markdown",
   "id": "a06c03d8-a913-4345-9c54-35f3750fddeb",
   "metadata": {},
   "source": [
    "<br>\n",
    "<br>\n",
    "<br>\n",
    "<br>\n",
    "<br>\n"
   ]
  },
  {
   "cell_type": "code",
   "execution_count": 26,
   "id": "464e27ef-e01e-4f04-8b6d-c8341d36ad7d",
   "metadata": {},
   "outputs": [
    {
     "data": {
      "text/plain": [
       "29818323363118330695657208561022182245408483689874434796596094120042892130329696574925452875844170278700157916592557849288993553306983332735019276548683877107558000132342839622132954183866007256038688928395706504544708607176597167210211702097500460860695779658854082274640012311071347388999500255587482516496743652970820521032845436104906293196806848467707112570953129753138163353680150199211172662711377407652647161782846555142976493976077389079800130716340098472288312063871771378734078424685985843500667486174721314540295541228026730128210496208915614541556435826064770335947389668407574601426085283153753900398693"
      ]
     },
     "execution_count": 26,
     "metadata": {},
     "output_type": "execute_result"
    }
   ],
   "source": [
    "p = gcd(a2  - 1, n)\n",
    "q = n // p\n",
    "p"
   ]
  },
  {
   "cell_type": "code",
   "execution_count": 27,
   "id": "ca15e08c-4648-47e9-86dc-c409ed855106",
   "metadata": {},
   "outputs": [
    {
     "data": {
      "text/plain": [
       "26867522192846776650080719061080022528067786111034292383953953410682948229041557086185365552679463359375432811106517110289485710848501581887853629264540610754531940323952337164803050241108601002340106244819396873185817706968066173622773606676338008330358022522052801347747105344486706513633871648080504039034146650915357634253379092870724458552981982642862454966676932160047225764828077067125252847606408431848297293799704733633927781787358638118511170598148368061256714181622280242678869883641997664353194754414833989252811267807730559824095344434826647059054547171413714731339279357049203128293892033651208660555473"
      ]
     },
     "execution_count": 27,
     "metadata": {},
     "output_type": "execute_result"
    }
   ],
   "source": [
    "q"
   ]
  },
  {
   "cell_type": "code",
   "execution_count": 28,
   "id": "09b1e9d1-7d24-488c-b5c4-d91e53b3a48d",
   "metadata": {},
   "outputs": [
    {
     "data": {
      "text/plain": [
       "True"
      ]
     },
     "execution_count": 28,
     "metadata": {},
     "output_type": "execute_result"
    }
   ],
   "source": [
    "p * q == n"
   ]
  },
  {
   "cell_type": "markdown",
   "id": "7fe7ca29-2702-4a75-a2bd-94df3507f862",
   "metadata": {},
   "source": [
    "## Tada! We have factored the public modulus $n$. \n",
    "\n",
    "(But remember, this was only feasible because we know the private exponent $d$. Again, this shows that knowing both $e$ and $d$ is computationally equivalent to knowing the factorization of $n$.) "
   ]
  },
  {
   "cell_type": "code",
   "execution_count": 29,
   "id": "23a0cda1-9a3b-4d19-a873-0019f94fd9f8",
   "metadata": {},
   "outputs": [
    {
     "name": "stdout",
     "output_type": "stream",
     "text": [
      "The factor p has 2048 bits (i.e. 617 digits in base 10)\n",
      "The factor q has 2048 bits (i.e. 617 digits in base 10)\n"
     ]
    }
   ],
   "source": [
    "print(f\"The factor p has {len(f'{p:b}')} bits (i.e. {len(f'{p}')} digits in base 10)\")\n",
    "print(f\"The factor q has {len(f'{q:b}')} bits (i.e. {len(f'{q}')} digits in base 10)\")"
   ]
  },
  {
   "cell_type": "markdown",
   "id": "3d9eb5cc-5de0-440e-b26f-eace50219184",
   "metadata": {},
   "source": [
    "<br>\n",
    "<br>\n",
    "<br>\n",
    "<br>\n",
    "<br>\n",
    "\n",
    "<br>\n",
    "<br>\n",
    "<br>\n",
    "<br>\n",
    "<br>\n",
    "\n",
    "<br>\n",
    "<br>\n",
    "<br>\n",
    "<br>\n",
    "<br>\n"
   ]
  },
  {
   "cell_type": "markdown",
   "id": "362ae0e4-c740-45ad-b2d1-1d997af8593a",
   "metadata": {
    "collapsed": false,
    "jupyter": {
     "outputs_hidden": false
    }
   },
   "source": [
    "### If anyone is interested... \n",
    "\n",
    "Here are the functions that I used to generate the prime numbers $p$ and $q$ that I used to demonstrate the Pollard $p - 1$ factoring algorithm. \n",
    "\n",
    "To use either of these, you'll have to supply your own `pseudoprime` function, which should run a (strong, or maybe weak) pseudoprime test on $n$ using base $b$. "
   ]
  },
  {
   "cell_type": "code",
   "execution_count": 2,
   "id": "1e0c26ce-dc7a-4f2d-8925-9597a0c3b616",
   "metadata": {},
   "outputs": [],
   "source": [
    "def randomprime(bits):\n",
    "    n = randint(1 << (bits - 1), 2*n - 1) & 1\n",
    "    while True:\n",
    "        if all(pseudoprime(n, b) for b in (2, 3, 5, 7, 11)):\n",
    "            return n\n",
    "        n += 2\n"
   ]
  },
  {
   "cell_type": "code",
   "execution_count": 15,
   "id": "a83a0d57-ffd7-4d23-b032-0520c3b3f6f3",
   "metadata": {},
   "outputs": [],
   "source": [
    "def random_pollard_prime(k):\n",
    "    primes = choices(PRIMES, weights=reversed(PRIMES), k=k)\n",
    "    n = functools.reduce(operator.mul, primes, 1)\n",
    "    while True:\n",
    "        p = n + 1\n",
    "        if all(pseudoprime(p, b) for b in (2, 3, 5, 7)):\n",
    "            return p\n",
    "        n *= PRIMES[randint(0, 5)]\n"
   ]
  },
  {
   "cell_type": "code",
   "execution_count": 58,
   "id": "5815d1a7-b19c-402c-8783-20bf073a557f",
   "metadata": {},
   "outputs": [
    {
     "data": {
      "text/plain": [
       "461929076519476808576197057201791813015898258251885353445919904020318759305233903264485235527647623103296308261352109970371743939883363563939249870381764755336947821875001"
      ]
     },
     "execution_count": 58,
     "metadata": {},
     "output_type": "execute_result"
    }
   ],
   "source": [
    "p = random_pollard_prime(50)\n",
    "p"
   ]
  },
  {
   "cell_type": "code",
   "execution_count": 63,
   "id": "a2779f97-f9cf-43b2-a476-f155dfb7d332",
   "metadata": {},
   "outputs": [
    {
     "data": {
      "text/plain": [
       "2568365529345367613463492522713715406520371258603657923903198778848326055286932934390768193875280711406221038494068007403873367309124836626989255748160308610258374716804796583445479"
      ]
     },
     "execution_count": 63,
     "metadata": {},
     "output_type": "execute_result"
    }
   ],
   "source": [
    "q = randomprime(600)\n",
    "q"
   ]
  },
  {
   "cell_type": "code",
   "execution_count": 64,
   "id": "eae682b0-c7c4-48a0-b717-677c929d6132",
   "metadata": {},
   "outputs": [
    {
     "data": {
      "text/plain": [
       "1186402717134962875008962818005971582607024788735572324207156490667441948792539599463043356696185884779201366459574003992991217679779698158662118542865347872359871367239265746643427541301107651826711253053437858376330724210339870574184017148753195331609010421555090484592249515188836719068299520745577365340843576328580655455186773011757636662636570479"
      ]
     },
     "execution_count": 64,
     "metadata": {},
     "output_type": "execute_result"
    }
   ],
   "source": [
    "n = p * q\n",
    "n"
   ]
  },
  {
   "cell_type": "code",
   "execution_count": 65,
   "id": "9d22efbd-e5a9-4403-98ea-cbb355d117c8",
   "metadata": {},
   "outputs": [
    {
     "data": {
      "text/plain": [
       "Counter({3: 8,\n",
       "         5: 8,\n",
       "         2: 3,\n",
       "         11: 3,\n",
       "         7: 2,\n",
       "         83: 2,\n",
       "         887: 2,\n",
       "         1481: 2,\n",
       "         13: 1,\n",
       "         89: 1,\n",
       "         107: 1,\n",
       "         139: 1,\n",
       "         193: 1,\n",
       "         277: 1,\n",
       "         283: 1,\n",
       "         331: 1,\n",
       "         337: 1,\n",
       "         467: 1,\n",
       "         569: 1,\n",
       "         571: 1,\n",
       "         647: 1,\n",
       "         659: 1,\n",
       "         787: 1,\n",
       "         857: 1,\n",
       "         877: 1,\n",
       "         983: 1,\n",
       "         1061: 1,\n",
       "         1301: 1,\n",
       "         1321: 1,\n",
       "         1453: 1,\n",
       "         1669: 1,\n",
       "         1811: 1,\n",
       "         2017: 1,\n",
       "         2143: 1,\n",
       "         2341: 1,\n",
       "         2887: 1,\n",
       "         2903: 1,\n",
       "         3221: 1,\n",
       "         3329: 1,\n",
       "         3527: 1,\n",
       "         3559: 1,\n",
       "         3779: 1,\n",
       "         3851: 1,\n",
       "         3989: 1,\n",
       "         4201: 1,\n",
       "         4517: 1,\n",
       "         4591: 1,\n",
       "         5419: 1,\n",
       "         5639: 1,\n",
       "         6229: 1,\n",
       "         6361: 1,\n",
       "         6829: 1,\n",
       "         6959: 1})"
      ]
     },
     "execution_count": 65,
     "metadata": {},
     "output_type": "execute_result"
    }
   ],
   "source": [
    "factor_trial_division(p - 1)"
   ]
  }
 ],
 "metadata": {
  "kernelspec": {
   "display_name": "Python 3 (ipykernel)",
   "language": "python",
   "name": "python3"
  },
  "language_info": {
   "codemirror_mode": {
    "name": "ipython",
    "version": 3
   },
   "file_extension": ".py",
   "mimetype": "text/x-python",
   "name": "python",
   "nbconvert_exporter": "python",
   "pygments_lexer": "ipython3",
   "version": "3.11.2"
  }
 },
 "nbformat": 4,
 "nbformat_minor": 5
}

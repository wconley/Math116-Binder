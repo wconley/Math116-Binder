{
 "cells": [
  {
   "cell_type": "code",
   "execution_count": 1,
   "metadata": {
    "collapsed": false,
    "jupyter": {
     "outputs_hidden": false
    }
   },
   "outputs": [],
   "source": [
    "from math116 import factor, crt\n",
    "from random import randint"
   ]
  },
  {
   "cell_type": "markdown",
   "metadata": {},
   "source": [
    "<br>\n",
    "<br>\n",
    "<br>\n",
    "<br>\n",
    "<br>\n",
    "\n",
    "<br>\n",
    "<br>\n",
    "<br>\n",
    "<br>\n",
    "<br>\n"
   ]
  },
  {
   "cell_type": "markdown",
   "metadata": {},
   "source": [
    "# A first example\n",
    "\n",
    "Here we're working modulo $p = 3001$. So we can say that we're working in the field $\\mathbb{F}_p$. Therefore in everything below, I'll just write $? = {}?$ instead of $? \\equiv {}? \\pmod{p}$. \n",
    "\n",
    "Our generator $g$ is a primitive root modulo $p = 3001$, so its order is exactly $p - 1 = 3000$. We'll call this order $n$ throughout this whole example. \n",
    "\n",
    "(The reason for writing $n$ here instead of $p-1$ is because the whole algorithm works for discrete logarithms with any base $g$, not just a primitive root. In other words, the order of $g$ in $F$ can be any number $n$, not just $1$ less than the size of the field $F$.) "
   ]
  },
  {
   "cell_type": "code",
   "execution_count": 2,
   "metadata": {},
   "outputs": [
    {
     "data": {
      "text/plain": [
       "Counter({2: 3, 5: 3, 3: 1})"
      ]
     },
     "execution_count": 2,
     "metadata": {},
     "output_type": "execute_result"
    }
   ],
   "source": [
    "p = 3001\n",
    "n = p - 1\n",
    "factor(n)"
   ]
  },
  {
   "cell_type": "code",
   "execution_count": 3,
   "metadata": {},
   "outputs": [
    {
     "data": {
      "text/plain": [
       "14"
      ]
     },
     "execution_count": 3,
     "metadata": {},
     "output_type": "execute_result"
    }
   ],
   "source": [
    "# If you've written a function to find a primitive root, you can use the line below. \n",
    "# But for now, I'll just tell you that 14 is a primitive root modulo 3001. \n",
    "#g = find_primitive_root(p) \n",
    "g = 14\n",
    "g"
   ]
  },
  {
   "cell_type": "code",
   "execution_count": 4,
   "metadata": {},
   "outputs": [
    {
     "data": {
      "text/plain": [
       "2264"
      ]
     },
     "execution_count": 4,
     "metadata": {},
     "output_type": "execute_result"
    }
   ],
   "source": [
    "x = randint(1, n)\n",
    "y = pow(g, x, p)\n",
    "del x\n",
    "y"
   ]
  },
  {
   "cell_type": "markdown",
   "metadata": {},
   "source": [
    "We know that $g^{\\frac{n}{2}} = -1$ in $F$. So \n",
    "$$ y^{\\frac{n}{2}} = (g^x)^{\\frac{n}{2}} = (g^{\\frac{n}{2}})^x = (-1)^x = \\pm 1 $$\n",
    "\n",
    "So the following computation will come out to $1$ or $3000$ (which is equal to $-1$ in $F$). If it's $1$, then we know $x$ is even, and if it's $3000$, we know $x$ is odd. In other words, if we write $x$ in base $2$, like \n",
    "$$ x = a_0 + a_1 \\cdot 2 + a_2 \\cdot 2^2 + a_3 \\cdot 2^3 + a_4 \\cdot 2^4 + \\dots $$\n",
    "then this tells us $a_0$. "
   ]
  },
  {
   "cell_type": "code",
   "execution_count": 5,
   "metadata": {},
   "outputs": [
    {
     "data": {
      "text/plain": [
       "3000"
      ]
     },
     "execution_count": 5,
     "metadata": {},
     "output_type": "execute_result"
    }
   ],
   "source": [
    "pow(y, n // 2, p) # Remember to use the integer division operator // !!!"
   ]
  },
  {
   "cell_type": "markdown",
   "metadata": {},
   "source": [
    "So far, from the previous step, we know $a_0$. That is, we know $x \\equiv a_0 \\pmod{2}$. \n",
    "\n",
    "In the first line below, replace the $-1$ with $-a_0$. "
   ]
  },
  {
   "cell_type": "code",
   "execution_count": 6,
   "metadata": {},
   "outputs": [
    {
     "data": {
      "text/plain": [
       "1"
      ]
     },
     "execution_count": 6,
     "metadata": {},
     "output_type": "execute_result"
    }
   ],
   "source": [
    "y1 = (y * pow(g, -1, p)) % p # You may need to change the -1 here\n",
    "\n",
    "# Again, the next line will give us 1 or 3000 ( == -1 mod p)\n",
    "# If it's 1, a1 = 0, if it's 3000, a1 = 1\n",
    "pow(y1, n // 4, p)"
   ]
  },
  {
   "cell_type": "markdown",
   "metadata": {},
   "source": [
    "So far, from the previous *two* steps, we know $a_0$ and $a_1$. That is, we know $x \\equiv a_0 + a_1 \\cdot 2 \\pmod{4}$. \n",
    "\n",
    "In the first line below, replace the $-3$ with $-(a_0 + a_1 \\cdot 2)$. "
   ]
  },
  {
   "cell_type": "code",
   "execution_count": 7,
   "metadata": {},
   "outputs": [
    {
     "data": {
      "text/plain": [
       "1648"
      ]
     },
     "execution_count": 7,
     "metadata": {},
     "output_type": "execute_result"
    }
   ],
   "source": [
    "y2 = (y * pow(g, -3, p)) % p # You may need to change the -3 here\n",
    "\n",
    "# Again, the next line will give us 1 or 3000 ( == -1 mod p)\n",
    "# If it's 1, a2 = 0, if it's 3000, a2 = 1\n",
    "pow(y2, n // 8, p)"
   ]
  },
  {
   "cell_type": "markdown",
   "metadata": {},
   "source": [
    "You should now know $a_0$, $a_1$, and $a_2$, so you know $x \\equiv a_0 + a_1 \\cdot 2 + a_2 \\cdot 4 \\pmod{8}$. \n",
    "\n",
    "Since $2^3 \\mid n$, and that's the largest power of $2$ that divides $n$, this is as far as we can hope to go with powers of $2$. (Note that we just did $y_2^{\\frac{n}{8}}$. We couldn't do something like $y_3^{\\frac{n}{16}}$, because $\\frac{n}{16}$ isn't an integer!) \n",
    "\n",
    "So let's move on to the prime $3$, which also divides $n$. \n",
    "\n",
    "To start, we calculate $h = g^{\\frac{n}{3}}$, and then compute all $3$ powers of $h$: \n",
    "$$ \\{ h^0, h^1, h^2 \\} $$\n",
    "(We don't need to do any more than this, because we know $h^3 = g^n = 1 = h^0$, so after this the values will just wrap around and repeat.) "
   ]
  },
  {
   "cell_type": "code",
   "execution_count": 8,
   "metadata": {},
   "outputs": [
    {
     "data": {
      "text/plain": [
       "934"
      ]
     },
     "execution_count": 8,
     "metadata": {},
     "output_type": "execute_result"
    }
   ],
   "source": [
    "h = pow(g, n // 3, p)\n",
    "h"
   ]
  },
  {
   "cell_type": "code",
   "execution_count": 9,
   "metadata": {},
   "outputs": [
    {
     "data": {
      "text/plain": [
       "[1, 934, 2066]"
      ]
     },
     "execution_count": 9,
     "metadata": {},
     "output_type": "execute_result"
    }
   ],
   "source": [
    "[pow(h, i, p) for i in range(3)]"
   ]
  },
  {
   "cell_type": "code",
   "execution_count": 10,
   "metadata": {},
   "outputs": [
    {
     "data": {
      "text/plain": [
       "934"
      ]
     },
     "execution_count": 10,
     "metadata": {},
     "output_type": "execute_result"
    }
   ],
   "source": [
    "pow(y, n // 3, p)"
   ]
  },
  {
   "cell_type": "markdown",
   "metadata": {},
   "source": [
    "The above two lines will tell you whether $x \\equiv 0, 1, \\text{ or } 2 \\pmod{3}$. \n",
    "\n",
    "Since $3^2$ does not divide $n$, this is as far as we can go with the prime $3$. So we move on to the next prime in the factorization of $n$, which is $5$. \n",
    "\n",
    "Here, we have $5^3 \\mid n$, so we can do three steps of this, just like we did with $2$ earlier. \n",
    "\n",
    "To start, we calculate $h = g^{\\frac{n}{5}}$, and then compute all $5$ powers of $h$: \n",
    "$$ \\{ h^0, h^1, h^2, h^3, h^4 \\} $$\n",
    "(As before, we don't need to do more, because after this the values will just wrap around and repeat.) "
   ]
  },
  {
   "cell_type": "code",
   "execution_count": 11,
   "metadata": {},
   "outputs": [
    {
     "data": {
      "text/plain": [
       "1998"
      ]
     },
     "execution_count": 11,
     "metadata": {},
     "output_type": "execute_result"
    }
   ],
   "source": [
    "h = pow(g, n // 5, p)\n",
    "h"
   ]
  },
  {
   "cell_type": "code",
   "execution_count": 12,
   "metadata": {},
   "outputs": [
    {
     "data": {
      "text/plain": [
       "[1, 1998, 674, 2204, 1125]"
      ]
     },
     "execution_count": 12,
     "metadata": {},
     "output_type": "execute_result"
    }
   ],
   "source": [
    "[pow(h, i, p) for i in range(5)]"
   ]
  },
  {
   "cell_type": "code",
   "execution_count": 13,
   "metadata": {},
   "outputs": [
    {
     "data": {
      "text/plain": [
       "1"
      ]
     },
     "execution_count": 13,
     "metadata": {},
     "output_type": "execute_result"
    }
   ],
   "source": [
    "pow(y, n // 5, p)"
   ]
  },
  {
   "cell_type": "markdown",
   "metadata": {},
   "source": [
    "The above two lines will tell you whether $x \\equiv 0, 1, 2, 3 \\text{ or } 4 \\pmod{5}$. \n",
    "\n",
    "In other words, if we write $x$ in base $5$, like \n",
    "$$ x = a_0 + a_1 \\cdot 5 + a_2 \\cdot 5^2 + a_3 \\cdot 5^3 + a_4 \\cdot 5^4 + \\dots $$\n",
    "then this tells us $a_0$. \n",
    "\n",
    "In the first line below, replace the $-1$ with $-a_0$. "
   ]
  },
  {
   "cell_type": "code",
   "execution_count": 14,
   "metadata": {},
   "outputs": [
    {
     "data": {
      "text/plain": [
       "1637"
      ]
     },
     "execution_count": 14,
     "metadata": {},
     "output_type": "execute_result"
    }
   ],
   "source": [
    "y1 = (y * pow(g, -1, p)) % p\n",
    "pow(y1, n // 25, p)"
   ]
  },
  {
   "cell_type": "markdown",
   "metadata": {},
   "source": [
    "So far, from the previous *two* steps, we know $a_0$ and $a_1$. That is, we know $x \\equiv a_0 + a_1 \\cdot 5 \\pmod{25}$. \n",
    "\n",
    "In the first line below, replace the $-21$ with $-(a_0 + a_1 \\cdot 5)$. "
   ]
  },
  {
   "cell_type": "code",
   "execution_count": 15,
   "metadata": {},
   "outputs": [
    {
     "data": {
      "text/plain": [
       "320"
      ]
     },
     "execution_count": 15,
     "metadata": {},
     "output_type": "execute_result"
    }
   ],
   "source": [
    "y2 = (y * pow(g, -21, p)) % p\n",
    "pow(y2, n // 125, p)"
   ]
  },
  {
   "cell_type": "markdown",
   "metadata": {},
   "source": [
    "Now, from the previous *three* steps, we know $a_0$, $a_1$, and $a_2$. That is, we know $x \\equiv a_0 + a_1 \\cdot 5 + a_2 \\cdot 25 \\pmod{125}$. \n",
    "\n",
    "Now, combining our final results from all three primes, we have some congruences of the form \n",
    "$$ \\begin{cases} x \\equiv ? \\pmod{8} \\\\ x \\equiv ? \\pmod{3} \\\\ x \\equiv ? \\pmod{125} \\end{cases} $$\n",
    "Use the Chinese Remainder Theorem to solve this, and find $x$!!! "
   ]
  },
  {
   "cell_type": "code",
   "execution_count": 16,
   "metadata": {},
   "outputs": [
    {
     "data": {
      "text/plain": [
       "(2171, 3000)"
      ]
     },
     "execution_count": 16,
     "metadata": {},
     "output_type": "execute_result"
    }
   ],
   "source": [
    "crt([3, 2, 46], [8, 3, 125])"
   ]
  },
  {
   "cell_type": "code",
   "execution_count": 17,
   "metadata": {},
   "outputs": [
    {
     "data": {
      "text/plain": [
       "False"
      ]
     },
     "execution_count": 17,
     "metadata": {},
     "output_type": "execute_result"
    }
   ],
   "source": [
    "pow(g, 2171, p) == y"
   ]
  },
  {
   "cell_type": "markdown",
   "metadata": {},
   "source": [
    "<br>\n",
    "<br>\n",
    "<br>\n",
    "<br>\n",
    "<br>\n",
    "\n",
    "<br>\n",
    "<br>\n",
    "<br>\n",
    "<br>\n",
    "<br>\n",
    "\n",
    "# A much bigger example\n",
    "\n",
    "If you want a programming challenge, see if you can code up the whole Pohlig–Hellman algorithm into a Python function. You can use the `factor` function in the `math116.py` module for the factorization, and of course the `crt` function for the Chinese Remainder Theorem. Or write your own versions of those, if you want! Overall, it's a somewhat complicated algorithm, but it's possible to code it up into only about 12-15 lines, excluding the code for those two functions (`factor` and `crt`). "
   ]
  },
  {
   "cell_type": "code",
   "execution_count": 18,
   "metadata": {},
   "outputs": [
    {
     "data": {
      "text/plain": [
       "9619207468653175616759436902665163751180382507782917509520588830058222330474585636366562773782928141958216061564951460490000000000001"
      ]
     },
     "execution_count": 18,
     "metadata": {},
     "output_type": "execute_result"
    }
   ],
   "source": [
    "p = 9619207468653175616759436902665163751180382507782917509520588830058222330474585636366562773782928141958216061564951460490000000000001\n",
    "p"
   ]
  },
  {
   "cell_type": "code",
   "execution_count": 19,
   "metadata": {},
   "outputs": [
    {
     "data": {
      "text/plain": [
       "Counter({3: 17,\n",
       "         2: 13,\n",
       "         5: 13,\n",
       "         7: 13,\n",
       "         11: 9,\n",
       "         13: 8,\n",
       "         19: 3,\n",
       "         23: 2,\n",
       "         3541: 2,\n",
       "         17: 1,\n",
       "         383: 1,\n",
       "         877: 1,\n",
       "         1013: 1,\n",
       "         2347: 1,\n",
       "         3079: 1,\n",
       "         3163: 1,\n",
       "         3631: 1,\n",
       "         3797: 1,\n",
       "         3877: 1,\n",
       "         4507: 1,\n",
       "         5689: 1,\n",
       "         6073: 1,\n",
       "         6133: 1,\n",
       "         6163: 1,\n",
       "         6199: 1,\n",
       "         6379: 1,\n",
       "         6733: 1,\n",
       "         8053: 1,\n",
       "         9851: 1})"
      ]
     },
     "execution_count": 19,
     "metadata": {},
     "output_type": "execute_result"
    }
   ],
   "source": [
    "factor(p - 1)"
   ]
  },
  {
   "cell_type": "code",
   "execution_count": 20,
   "metadata": {},
   "outputs": [
    {
     "data": {
      "text/plain": [
       "41"
      ]
     },
     "execution_count": 20,
     "metadata": {},
     "output_type": "execute_result"
    }
   ],
   "source": [
    "# g = find_primitive_root(p)\n",
    "g = 41 # This is a primitive root modulo p\n",
    "g"
   ]
  },
  {
   "cell_type": "code",
   "execution_count": 21,
   "metadata": {},
   "outputs": [
    {
     "data": {
      "text/plain": [
       "6308014813266195218738389462809295677566031527021904881328710254007888226772719990687055547481896175554374271917342091978164710744915"
      ]
     },
     "execution_count": 21,
     "metadata": {},
     "output_type": "execute_result"
    }
   ],
   "source": [
    "y = pow(g, randint(p // 10, p - 1), p)\n",
    "y"
   ]
  },
  {
   "cell_type": "code",
   "execution_count": 22,
   "metadata": {},
   "outputs": [
    {
     "ename": "KeyboardInterrupt",
     "evalue": "",
     "output_type": "error",
     "traceback": [
      "\u001b[0;31m---------------------------------------------------------------------------\u001b[0m",
      "\u001b[0;31mKeyboardInterrupt\u001b[0m                         Traceback (most recent call last)",
      "Cell \u001b[0;32mIn[22], line 6\u001b[0m\n\u001b[1;32m      4\u001b[0m \u001b[38;5;28;01mif\u001b[39;00m m \u001b[38;5;241m==\u001b[39m y:\n\u001b[1;32m      5\u001b[0m     \u001b[38;5;28;01mbreak\u001b[39;00m\n\u001b[0;32m----> 6\u001b[0m m \u001b[38;5;241m=\u001b[39m (\u001b[43mm\u001b[49m\u001b[43m \u001b[49m\u001b[38;5;241;43m*\u001b[39;49m\u001b[43m \u001b[49m\u001b[43mg\u001b[49m) \u001b[38;5;241m%\u001b[39m p\n",
      "\u001b[0;31mKeyboardInterrupt\u001b[0m: "
     ]
    }
   ],
   "source": [
    "# This will probably take millions of years to produce a result, if not longer. \n",
    "m = 1\n",
    "for i in range(p - 1):\n",
    "    if m == y:\n",
    "        break\n",
    "    m = (m * g) % p\n"
   ]
  },
  {
   "cell_type": "code",
   "execution_count": 23,
   "metadata": {},
   "outputs": [
    {
     "data": {
      "text/plain": [
       "96685724"
      ]
     },
     "execution_count": 23,
     "metadata": {},
     "output_type": "execute_result"
    }
   ],
   "source": [
    "i"
   ]
  },
  {
   "cell_type": "code",
   "execution_count": null,
   "metadata": {},
   "outputs": [],
   "source": [
    "# You'll have to code this yourself! \n",
    "x = pohlig_hellman(g, y, p)\n",
    "x"
   ]
  },
  {
   "cell_type": "code",
   "execution_count": null,
   "metadata": {},
   "outputs": [],
   "source": [
    "# If you did it right, this should return True! \n",
    "pow(g, x, p) == y"
   ]
  },
  {
   "cell_type": "code",
   "execution_count": null,
   "metadata": {},
   "outputs": [],
   "source": []
  }
 ],
 "metadata": {
  "kernelspec": {
   "display_name": "Python 3 (ipykernel)",
   "language": "python",
   "name": "python3"
  },
  "language_info": {
   "codemirror_mode": {
    "name": "ipython",
    "version": 3
   },
   "file_extension": ".py",
   "mimetype": "text/x-python",
   "name": "python",
   "nbconvert_exporter": "python",
   "pygments_lexer": "ipython3",
   "version": "3.11.2"
  }
 },
 "nbformat": 4,
 "nbformat_minor": 4
}

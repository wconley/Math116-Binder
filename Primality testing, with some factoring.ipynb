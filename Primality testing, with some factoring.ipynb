{
 "cells": [
  {
   "cell_type": "code",
   "execution_count": 1,
   "id": "5db094e3",
   "metadata": {
    "collapsed": false,
    "jupyter": {
     "outputs_hidden": false
    }
   },
   "outputs": [],
   "source": [
    "from random import sample\n",
    "from math import sqrt\n",
    "from collections import Counter\n",
    "\n",
    "from math116 import gcd, PRIMES"
   ]
  },
  {
   "cell_type": "code",
   "execution_count": 2,
   "id": "3bad69a2-91fd-4b7c-8050-c8d0b7dd5f83",
   "metadata": {},
   "outputs": [],
   "source": [
    "def factor_trial_division(n):\n",
    "    factorization = Counter()\n",
    "    for p in range(2, int(sqrt(n))+1):\n",
    "        while n % p == 0:\n",
    "            n //= p\n",
    "            factorization[p] += 1\n",
    "        if n == 1:\n",
    "            break\n",
    "    else:\n",
    "        factorization[n] += 1\n",
    "    return factorization\n"
   ]
  },
  {
   "cell_type": "markdown",
   "id": "3408ad3d-df36-422b-bf48-770765c38b49",
   "metadata": {},
   "source": [
    "<br>\n",
    "<br>\n",
    "<br>\n",
    "<br>\n",
    "<br>\n",
    "\n",
    "<br>\n",
    "<br>\n",
    "<br>\n",
    "<br>\n",
    "<br>\n",
    "\n",
    "<br>\n",
    "<br>\n",
    "<br>\n",
    "<br>\n",
    "<br>\n"
   ]
  },
  {
   "cell_type": "markdown",
   "id": "6382efc5-b505-4dc2-aea1-a9dadefbb9b6",
   "metadata": {},
   "source": [
    "# The (Fermat) pseudoprime test, or “basic” pseudoprime test\n",
    "\n",
    "## When $n$ *is* prime, $b^{n-1} \\equiv 1 \\pmod{n}$ for all $b$ (that are coprime to $n$)"
   ]
  },
  {
   "cell_type": "code",
   "execution_count": 3,
   "id": "29ead0cc-c7dd-4826-bc20-b09c3635076d",
   "metadata": {},
   "outputs": [
    {
     "data": {
      "text/plain": [
       "Counter({2: 3, 3: 1, 5: 1})"
      ]
     },
     "execution_count": 3,
     "metadata": {},
     "output_type": "execute_result"
    }
   ],
   "source": [
    "factor_trial_division(120)"
   ]
  },
  {
   "cell_type": "markdown",
   "id": "46ad0386-4a9c-47f0-8bde-65bc5eba32cf",
   "metadata": {},
   "source": [
    "### The following works, and shows n is prime, but on such a large number, it's slow"
   ]
  },
  {
   "cell_type": "code",
   "execution_count": 4,
   "id": "519711dd-b4f1-419a-a639-73ac622da4b0",
   "metadata": {},
   "outputs": [
    {
     "data": {
      "text/plain": [
       "Counter({685164018569: 1})"
      ]
     },
     "execution_count": 4,
     "metadata": {},
     "output_type": "execute_result"
    }
   ],
   "source": [
    "n = 685164018569\n",
    "factor_trial_division(n)"
   ]
  },
  {
   "cell_type": "markdown",
   "id": "d789e772-5049-4b5e-9433-948b114b29c3",
   "metadata": {},
   "source": [
    "### Instead, let's try the Fermat pseudoprime test with a few bases..."
   ]
  },
  {
   "cell_type": "code",
   "execution_count": 5,
   "id": "1e6d7666-a54f-4dde-a2fd-2224ff1bddee",
   "metadata": {},
   "outputs": [
    {
     "data": {
      "text/plain": [
       "1"
      ]
     },
     "execution_count": 5,
     "metadata": {},
     "output_type": "execute_result"
    }
   ],
   "source": [
    "pow(2, n-1, n)"
   ]
  },
  {
   "cell_type": "code",
   "execution_count": 6,
   "id": "45bbd68e-3d88-46f0-8700-a384079bdc80",
   "metadata": {},
   "outputs": [
    {
     "data": {
      "text/plain": [
       "1"
      ]
     },
     "execution_count": 6,
     "metadata": {},
     "output_type": "execute_result"
    }
   ],
   "source": [
    "pow(3, n-1, n)"
   ]
  },
  {
   "cell_type": "code",
   "execution_count": 7,
   "id": "5c22ca5d-e37e-42f7-b117-be06b13b2aa1",
   "metadata": {},
   "outputs": [
    {
     "data": {
      "text/plain": [
       "1"
      ]
     },
     "execution_count": 7,
     "metadata": {},
     "output_type": "execute_result"
    }
   ],
   "source": [
    "pow(5, n-1, n)"
   ]
  },
  {
   "cell_type": "code",
   "execution_count": 8,
   "id": "ed9f3d82-370e-4c6c-a124-8d6c75796eea",
   "metadata": {},
   "outputs": [
    {
     "data": {
      "text/plain": [
       "1"
      ]
     },
     "execution_count": 8,
     "metadata": {},
     "output_type": "execute_result"
    }
   ],
   "source": [
    "pow(7, n-1, n)"
   ]
  },
  {
   "cell_type": "code",
   "execution_count": 9,
   "id": "e3eb0d98-5931-4cec-b85a-45f2582001c1",
   "metadata": {},
   "outputs": [
    {
     "data": {
      "text/plain": [
       "1"
      ]
     },
     "execution_count": 9,
     "metadata": {},
     "output_type": "execute_result"
    }
   ],
   "source": [
    "pow(11, n-1, n)"
   ]
  },
  {
   "cell_type": "markdown",
   "id": "ad24c7fb-e7e5-459c-a802-566d0268f93b",
   "metadata": {},
   "source": [
    "### Since they all gave us 1, n is *probably* prime"
   ]
  },
  {
   "cell_type": "markdown",
   "id": "1e776304-6ade-4e62-964c-9fab2d574156",
   "metadata": {},
   "source": [
    "<br>\n",
    "<br>\n",
    "<br>\n",
    "<br>\n",
    "<br>\n",
    "\n",
    "<br>\n",
    "<br>\n",
    "<br>\n",
    "<br>\n",
    "<br>\n",
    "\n",
    "<br>\n",
    "<br>\n",
    "<br>\n",
    "<br>\n",
    "<br>\n"
   ]
  },
  {
   "cell_type": "markdown",
   "id": "15c90e60-285a-42b4-8037-5a397f101140",
   "metadata": {},
   "source": [
    "# The (Fermat) pseudoprime test, or “basic” pseudoprime test\n",
    "\n",
    "## When $n$ *is not* prime, $b^{n-1} \\pmod{n}$ will *usually* not be $1$"
   ]
  },
  {
   "cell_type": "code",
   "execution_count": 10,
   "id": "8367cab4-5996-4af9-8ddf-08ade3ab6e3c",
   "metadata": {},
   "outputs": [
    {
     "data": {
      "text/plain": [
       "8435249"
      ]
     },
     "execution_count": 10,
     "metadata": {},
     "output_type": "execute_result"
    }
   ],
   "source": [
    "# Here's a way you can generate a number that is a product of two primes, and will be pretty large (8 digits)\n",
    "p, q = sample(PRIMES[180:], 2)\n",
    "n = p * q\n",
    "n"
   ]
  },
  {
   "cell_type": "markdown",
   "id": "55c3bf0e-7bd3-4fbf-b362-0cc4a28eb6fe",
   "metadata": {},
   "source": [
    "### Here's an example of using the Fermat pseudoprime test to show that a number is *composite*"
   ]
  },
  {
   "cell_type": "code",
   "execution_count": 11,
   "id": "7997803a-92e9-47b0-9aad-60cc2c7f787a",
   "metadata": {},
   "outputs": [],
   "source": [
    "n = 10387693"
   ]
  },
  {
   "cell_type": "code",
   "execution_count": 12,
   "id": "f7e8cb69-502a-4fef-83ee-5ae65cfd26e6",
   "metadata": {},
   "outputs": [
    {
     "data": {
      "text/plain": [
       "5955546"
      ]
     },
     "execution_count": 12,
     "metadata": {},
     "output_type": "execute_result"
    }
   ],
   "source": [
    "pow(2, n-1, n)"
   ]
  },
  {
   "cell_type": "markdown",
   "id": "f5a6cd96-b784-4063-916c-e0394dc11ab3",
   "metadata": {},
   "source": [
    "<br>\n",
    "<br>\n",
    "<br>\n",
    "<br>\n",
    "<br>\n"
   ]
  },
  {
   "cell_type": "code",
   "execution_count": 13,
   "id": "85eee352-db0d-40b9-a6ac-048946cbd10e",
   "metadata": {},
   "outputs": [
    {
     "data": {
      "text/plain": [
       "Counter({3217: 1, 3229: 1})"
      ]
     },
     "execution_count": 13,
     "metadata": {},
     "output_type": "execute_result"
    }
   ],
   "source": [
    "factor_trial_division(n)"
   ]
  },
  {
   "cell_type": "markdown",
   "id": "161b73ee-dfda-40b5-9a85-fc8f7aa377c2",
   "metadata": {},
   "source": [
    "<br>\n",
    "<br>\n",
    "<br>\n",
    "<br>\n",
    "<br>\n",
    "\n",
    "<br>\n",
    "<br>\n",
    "<br>\n",
    "<br>\n",
    "<br>\n",
    "\n",
    "<br>\n",
    "<br>\n",
    "<br>\n",
    "<br>\n",
    "<br>\n"
   ]
  },
  {
   "cell_type": "markdown",
   "id": "130cb5bc-650b-4eb0-adc6-ddd5ad8a965a",
   "metadata": {},
   "source": [
    "# The Miller–Rabin test, or “strong” pseudoprime test"
   ]
  },
  {
   "cell_type": "markdown",
   "id": "e3ace079-925a-403a-b105-6e763f802e01",
   "metadata": {},
   "source": [
    "## A first example: $n = 561$"
   ]
  },
  {
   "cell_type": "code",
   "execution_count": 14,
   "id": "3d6f7ab5-69f2-42f6-a0fe-b9931e37ef45",
   "metadata": {},
   "outputs": [],
   "source": [
    "n = 561"
   ]
  },
  {
   "cell_type": "code",
   "execution_count": 15,
   "id": "25bd2d82-d5db-4d70-8290-bcb787a0f362",
   "metadata": {},
   "outputs": [
    {
     "data": {
      "text/plain": [
       "1"
      ]
     },
     "execution_count": 15,
     "metadata": {},
     "output_type": "execute_result"
    }
   ],
   "source": [
    "pow(2, n - 1, n)"
   ]
  },
  {
   "cell_type": "code",
   "execution_count": 16,
   "id": "e957f501-019c-420e-8521-272b8c77a26e",
   "metadata": {},
   "outputs": [
    {
     "data": {
      "text/plain": [
       "True"
      ]
     },
     "execution_count": 16,
     "metadata": {},
     "output_type": "execute_result"
    }
   ],
   "source": [
    "560 == 35 * 2**4"
   ]
  },
  {
   "cell_type": "code",
   "execution_count": 17,
   "id": "e5688393-f4bd-48d9-9bb0-96fbec11e075",
   "metadata": {},
   "outputs": [
    {
     "data": {
      "text/plain": [
       "263"
      ]
     },
     "execution_count": 17,
     "metadata": {},
     "output_type": "execute_result"
    }
   ],
   "source": [
    "a0 = pow(2, 35, n)\n",
    "a0"
   ]
  },
  {
   "cell_type": "code",
   "execution_count": 18,
   "id": "d5121c3a-5027-44e7-83d1-6dbf8c8fb22b",
   "metadata": {},
   "outputs": [
    {
     "data": {
      "text/plain": [
       "166"
      ]
     },
     "execution_count": 18,
     "metadata": {},
     "output_type": "execute_result"
    }
   ],
   "source": [
    "a1 = a0**2 % n\n",
    "a1"
   ]
  },
  {
   "cell_type": "code",
   "execution_count": 19,
   "id": "dc7fb431-9f1d-4831-8845-3444073da4e2",
   "metadata": {},
   "outputs": [
    {
     "data": {
      "text/plain": [
       "67"
      ]
     },
     "execution_count": 19,
     "metadata": {},
     "output_type": "execute_result"
    }
   ],
   "source": [
    "a2 = a1**2 % n\n",
    "a2"
   ]
  },
  {
   "cell_type": "code",
   "execution_count": 20,
   "id": "2043ee28-a2af-4fcf-b3a7-5d2cbddd9766",
   "metadata": {},
   "outputs": [
    {
     "data": {
      "text/plain": [
       "1"
      ]
     },
     "execution_count": 20,
     "metadata": {},
     "output_type": "execute_result"
    }
   ],
   "source": [
    "a3 = a2**2 % n\n",
    "a3"
   ]
  },
  {
   "cell_type": "markdown",
   "id": "94362896-7ecc-46f4-bd8d-3a8874e48b7a",
   "metadata": {},
   "source": [
    "Note that $a_2 \\not\\equiv \\pm 1 \\pmod{n}$, but $a_2^2 \\equiv 1 \\pmod{n}$. So that means we should get a nontrivial factor of $n$ from $\\gcd(a_2 - 1, n)$ (and also from $\\gcd(a_2 + 1, n)$. "
   ]
  },
  {
   "cell_type": "code",
   "execution_count": 21,
   "id": "bec453a2-13db-46dc-9406-d25c4d887471",
   "metadata": {},
   "outputs": [
    {
     "data": {
      "text/plain": [
       "33"
      ]
     },
     "execution_count": 21,
     "metadata": {},
     "output_type": "execute_result"
    }
   ],
   "source": [
    "gcd(67 - 1, n)"
   ]
  },
  {
   "cell_type": "code",
   "execution_count": 22,
   "id": "bd801497-3825-4f51-a15c-5dafba8bfb12",
   "metadata": {},
   "outputs": [
    {
     "data": {
      "text/plain": [
       "17"
      ]
     },
     "execution_count": 22,
     "metadata": {},
     "output_type": "execute_result"
    }
   ],
   "source": [
    "gcd(67 + 1, n)"
   ]
  },
  {
   "cell_type": "code",
   "execution_count": null,
   "id": "2625dd1e-1f5e-4d20-97cd-f3bb8c7bd6ac",
   "metadata": {},
   "outputs": [],
   "source": []
  },
  {
   "cell_type": "markdown",
   "id": "8a0907e1-52f6-4e81-855d-2a082d32990b",
   "metadata": {},
   "source": [
    "<br>\n",
    "<br>\n",
    "<br>\n",
    "<br>\n",
    "<br>\n",
    "\n",
    "<br>\n",
    "<br>\n",
    "<br>\n",
    "<br>\n",
    "<br>\n",
    "\n",
    "<br>\n",
    "<br>\n",
    "<br>\n",
    "<br>\n",
    "<br>\n"
   ]
  },
  {
   "cell_type": "markdown",
   "id": "6a609869-14be-49dd-8a9d-e4f09dc17d5b",
   "metadata": {},
   "source": [
    "## An interesting example: $n = 1099201$\n",
    "\n",
    "First, note that with base $3$, the basic Fermat pseudoprime test would imply that $n$ is *probably* prime. "
   ]
  },
  {
   "cell_type": "code",
   "execution_count": 23,
   "id": "7391edf8-eee3-4359-9910-c94763b40ac1",
   "metadata": {},
   "outputs": [
    {
     "data": {
      "text/plain": [
       "1"
      ]
     },
     "execution_count": 23,
     "metadata": {},
     "output_type": "execute_result"
    }
   ],
   "source": [
    "n = 1099201\n",
    "pow(3, n-1, n)"
   ]
  },
  {
   "cell_type": "markdown",
   "id": "edf9145e-d231-4290-87bb-c5c8b144f490",
   "metadata": {},
   "source": [
    "<br>\n",
    "<br>\n",
    "<br>\n",
    "<br>\n",
    "<br>\n"
   ]
  },
  {
   "cell_type": "code",
   "execution_count": 24,
   "id": "970cca0c-0ce9-40a5-9abe-aa943e78c053",
   "metadata": {},
   "outputs": [
    {
     "data": {
      "text/plain": [
       "17175.0"
      ]
     },
     "execution_count": 24,
     "metadata": {},
     "output_type": "execute_result"
    }
   ],
   "source": [
    "(n - 1) / 64"
   ]
  },
  {
   "cell_type": "code",
   "execution_count": 25,
   "id": "60890a6f-3c18-449c-9653-327af1169b16",
   "metadata": {},
   "outputs": [
    {
     "data": {
      "text/plain": [
       "True"
      ]
     },
     "execution_count": 25,
     "metadata": {},
     "output_type": "execute_result"
    }
   ],
   "source": [
    "q = 17175\n",
    "n - 1 == q * 2**6"
   ]
  },
  {
   "cell_type": "code",
   "execution_count": 26,
   "id": "fb14c95e-d637-4c20-b755-ce21e37fbf36",
   "metadata": {},
   "outputs": [
    {
     "data": {
      "text/plain": [
       "59294"
      ]
     },
     "execution_count": 26,
     "metadata": {},
     "output_type": "execute_result"
    }
   ],
   "source": [
    "a0 = pow(3, q, n)\n",
    "a0"
   ]
  },
  {
   "cell_type": "code",
   "execution_count": 27,
   "id": "c330ac25-1d90-4fc7-be57-04b4a10114e5",
   "metadata": {},
   "outputs": [
    {
     "data": {
      "text/plain": [
       "533638"
      ]
     },
     "execution_count": 27,
     "metadata": {},
     "output_type": "execute_result"
    }
   ],
   "source": [
    "a1 = a0 * a0 % n\n",
    "a1"
   ]
  },
  {
   "cell_type": "code",
   "execution_count": 28,
   "id": "6d949969-3915-4adb-bd40-11b5b6d1a537",
   "metadata": {},
   "outputs": [
    {
     "data": {
      "text/plain": [
       "611175"
      ]
     },
     "execution_count": 28,
     "metadata": {},
     "output_type": "execute_result"
    }
   ],
   "source": [
    "a2 = a1 * a1 % n\n",
    "a2"
   ]
  },
  {
   "cell_type": "code",
   "execution_count": 29,
   "id": "0d768376-4c37-4b5b-954d-5605e92f3b76",
   "metadata": {},
   "outputs": [
    {
     "data": {
      "text/plain": [
       "1"
      ]
     },
     "execution_count": 29,
     "metadata": {},
     "output_type": "execute_result"
    }
   ],
   "source": [
    "a3 = a2 * a2 % n\n",
    "a3"
   ]
  },
  {
   "cell_type": "code",
   "execution_count": 30,
   "id": "c7a496ab-73ae-4384-9d2a-3b7d064810a2",
   "metadata": {},
   "outputs": [
    {
     "data": {
      "text/plain": [
       "False"
      ]
     },
     "execution_count": 30,
     "metadata": {},
     "output_type": "execute_result"
    }
   ],
   "source": [
    "611175 == n - 1"
   ]
  },
  {
   "cell_type": "markdown",
   "id": "58413652-7ca3-4671-adcd-ea9e31cf247e",
   "metadata": {},
   "source": [
    "But the Miller–Rabin (strong) pseudoprime test, with the same base $3$, not only proves $n$ is composite, but actually gives us a nontrivial factor of $n$. "
   ]
  },
  {
   "cell_type": "code",
   "execution_count": 31,
   "id": "afe03bab-bc5f-4ee4-a376-3db0b5f6e5e3",
   "metadata": {},
   "outputs": [
    {
     "data": {
      "text/plain": [
       "4561"
      ]
     },
     "execution_count": 31,
     "metadata": {},
     "output_type": "execute_result"
    }
   ],
   "source": [
    "gcd(a2 - 1, n)"
   ]
  },
  {
   "cell_type": "code",
   "execution_count": 32,
   "id": "79645e12-c35b-45a1-bf50-90665bfd9b42",
   "metadata": {},
   "outputs": [
    {
     "data": {
      "text/plain": [
       "241"
      ]
     },
     "execution_count": 32,
     "metadata": {},
     "output_type": "execute_result"
    }
   ],
   "source": [
    "gcd(a2 + 1, n)"
   ]
  },
  {
   "cell_type": "code",
   "execution_count": 33,
   "id": "d765f374-7cd3-490f-9000-c85dd772e733",
   "metadata": {},
   "outputs": [
    {
     "name": "stdout",
     "output_type": "stream",
     "text": [
      "i = 0: 3^(1*q) = 59294   (mod n)\n",
      "i = 1: 3^(2*q) = 533638   (mod n)\n",
      "i = 2: 3^(4*q) = 611175   (mod n)\n",
      "i = 3: 3^(8*q) = 1   (mod n)\n",
      "i = 4: 3^(16*q) = 1   (mod n)\n",
      "i = 5: 3^(32*q) = 1   (mod n)\n",
      "i = 6: 3^(64*q) = 1   (mod n)\n"
     ]
    }
   ],
   "source": [
    "base = 3\n",
    "a = pow(base, q, n)\n",
    "for i in range(6 + 1):\n",
    "    print(f\"i = {i}: {base}^({2**i}*q) = {a}   (mod n)\")\n",
    "    a = a * a % n\n"
   ]
  },
  {
   "cell_type": "code",
   "execution_count": 34,
   "id": "ccdf2a68-fd00-4f38-b545-707accee54b1",
   "metadata": {},
   "outputs": [
    {
     "data": {
      "text/plain": [
       "Counter({241: 1, 4561: 1})"
      ]
     },
     "execution_count": 34,
     "metadata": {},
     "output_type": "execute_result"
    }
   ],
   "source": [
    "factor_trial_division(n)"
   ]
  },
  {
   "cell_type": "markdown",
   "id": "2680ae25-0799-46d2-8861-d61f9fcc0ef3",
   "metadata": {},
   "source": [
    "<br>\n",
    "<br>\n",
    "<br>\n",
    "<br>\n",
    "<br>\n",
    "\n",
    "<br>\n",
    "<br>\n",
    "<br>\n",
    "<br>\n",
    "<br>\n",
    "\n",
    "<br>\n",
    "<br>\n",
    "<br>\n",
    "<br>\n",
    "<br>\n"
   ]
  },
  {
   "cell_type": "markdown",
   "id": "1e4da419-4adb-49ec-aa5d-0d00378c592a",
   "metadata": {},
   "source": [
    "# The Miller–Rabin test, or “strong” pseudoprime test\n",
    "\n",
    "## Another interesting example: $n = 251521$"
   ]
  },
  {
   "cell_type": "code",
   "execution_count": 35,
   "id": "bd4f239c-182f-4c8b-bef3-923c0fdb1790",
   "metadata": {},
   "outputs": [],
   "source": [
    "n = 251521\n",
    "base = 5"
   ]
  },
  {
   "cell_type": "code",
   "execution_count": 36,
   "id": "be54057a-d5cf-4072-9268-57aa5851eb1e",
   "metadata": {},
   "outputs": [
    {
     "data": {
      "text/plain": [
       "1965.0"
      ]
     },
     "execution_count": 36,
     "metadata": {},
     "output_type": "execute_result"
    }
   ],
   "source": [
    "(n - 1) / 128"
   ]
  },
  {
   "cell_type": "code",
   "execution_count": 39,
   "id": "519de0fb-6894-4e51-b239-1dcca09c0fa3",
   "metadata": {},
   "outputs": [
    {
     "data": {
      "text/plain": [
       "True"
      ]
     },
     "execution_count": 39,
     "metadata": {},
     "output_type": "execute_result"
    }
   ],
   "source": [
    "q = 1965\n",
    "k = 7\n",
    "n - 1 == q * 2**k"
   ]
  },
  {
   "cell_type": "code",
   "execution_count": 40,
   "id": "597374a7-f639-49bb-bae7-c5176b31322a",
   "metadata": {},
   "outputs": [
    {
     "name": "stdout",
     "output_type": "stream",
     "text": [
      "i = 0: 5^(q*1) = 12073   (mod n)\n",
      "i = 1: 5^(q*2) = 126670   (mod n)\n",
      "i = 2: 5^(q*4) = 9747   (mod n)\n",
      "i = 3: 5^(q*8) = 180592   (mod n)\n",
      "i = 4: 5^(q*16) = 251520   (mod n)\n",
      "i = 5: 5^(q*32) = 1   (mod n)\n",
      "i = 6: 5^(q*64) = 1   (mod n)\n",
      "i = 7: 5^(q*128) = 1   (mod n)\n"
     ]
    }
   ],
   "source": [
    "a = pow(base, q, n)\n",
    "for i in range(k + 1):\n",
    "    print(f\"i = {i}: {base}^(q*{2**i}) = {a}   (mod n)\")\n",
    "    a = a * a % n\n"
   ]
  },
  {
   "cell_type": "markdown",
   "id": "2ab9ba3a-c5da-4e7a-8c7d-e614aef00914",
   "metadata": {},
   "source": [
    "This time (with base $5$), the strong pseudoprime test doesn't give us any new information, because $a_4 \\equiv -1 \\pmod{n}$, so when $a_5 \\equiv 1 \\pmod{n}$, we don't get a nontrivial factor of $n$. \n",
    "\n",
    "So, as far as we can tell, $n$ is *probably* prime.........."
   ]
  },
  {
   "cell_type": "markdown",
   "id": "88f653c8-588c-4148-878e-e869676aef31",
   "metadata": {},
   "source": [
    "<br>\n",
    "<br>\n",
    "<br>\n",
    "<br>\n",
    "<br>\n"
   ]
  },
  {
   "cell_type": "markdown",
   "id": "c61961a6-00d9-411d-b575-89a50ab9fd0e",
   "metadata": {},
   "source": [
    "However, testing $n$ with a different base ($b = 2$), even with the basic Fermat pseudoprime test, proves that $n$ is composite. "
   ]
  },
  {
   "cell_type": "code",
   "execution_count": 41,
   "id": "76ee5ae5-6d62-493e-b069-0dbc4873362f",
   "metadata": {},
   "outputs": [
    {
     "data": {
      "text/plain": [
       "40547"
      ]
     },
     "execution_count": 41,
     "metadata": {},
     "output_type": "execute_result"
    }
   ],
   "source": [
    "pow(2, n-1, n)"
   ]
  },
  {
   "cell_type": "markdown",
   "id": "b426be76-6f08-4a06-8cfa-a2d59aef4b3c",
   "metadata": {},
   "source": [
    "<br>\n",
    "<br>\n",
    "<br>\n",
    "<br>\n",
    "<br>\n"
   ]
  },
  {
   "cell_type": "code",
   "execution_count": 42,
   "id": "413962f3-1371-4185-a73f-3ca2bc80474d",
   "metadata": {},
   "outputs": [
    {
     "name": "stdout",
     "output_type": "stream",
     "text": [
      "i = 0: 2^(q*1) = 48682   (mod n)\n",
      "i = 1: 2^(q*2) = 106262   (mod n)\n",
      "i = 2: 2^(q*4) = 80391   (mod n)\n",
      "i = 3: 2^(q*8) = 132307   (mod n)\n",
      "i = 4: 2^(q*16) = 35212   (mod n)\n",
      "i = 5: 2^(q*32) = 137935   (mod n)\n",
      "i = 6: 2^(q*64) = 9701   (mod n)\n",
      "i = 7: 2^(q*128) = 40547   (mod n)\n"
     ]
    }
   ],
   "source": [
    "base = 2\n",
    "a = pow(base, q, n)\n",
    "for i in range(k + 1):\n",
    "    print(f\"i = {i}: {base}^(q*{2**i}) = {a}   (mod n)\")\n",
    "    a = a * a % n\n"
   ]
  },
  {
   "cell_type": "markdown",
   "id": "fe81cecb-b7f4-484a-935a-6f95d04aed8c",
   "metadata": {},
   "source": [
    "<br>\n",
    "<br>\n",
    "<br>\n",
    "<br>\n",
    "<br>\n",
    "\n",
    "<br>\n",
    "<br>\n",
    "<br>\n",
    "<br>\n",
    "<br>\n",
    "\n",
    "<br>\n",
    "<br>\n",
    "<br>\n",
    "<br>\n",
    "<br>\n"
   ]
  },
  {
   "cell_type": "markdown",
   "id": "c92b257f-c93f-41b7-ab59-7c55b0f6b799",
   "metadata": {},
   "source": [
    "### If anyone is interested... \n",
    "\n",
    "Here's the (completely BFI$^*$) method that I used to generate the examples above randomly. \n",
    "\n",
    "$^*$ BFI = “Brute Force and Ignorance”"
   ]
  },
  {
   "cell_type": "code",
   "execution_count": 44,
   "id": "a70e782f-0269-44f5-a2d7-a89c463be007",
   "metadata": {},
   "outputs": [
    {
     "name": "stdout",
     "output_type": "stream",
     "text": [
      "n = 229633, base 7: [217444, 228803, 1, 1, 1, 1, 1, 1, 1]\n"
     ]
    }
   ],
   "source": [
    "found = False\n",
    "while not found:\n",
    "    p, q = sample(PRIMES[1:], 2)\n",
    "    n = p*q\n",
    "    exp = 1\n",
    "    oddpart = (n - 1) // 2\n",
    "    while oddpart % 2 == 0:\n",
    "        exp += 1\n",
    "        oddpart //= 2\n",
    "    for base in [2, 3, 5, 7]:\n",
    "        a0 = pow(base, oddpart, n)\n",
    "        a_list = [pow(a0, 2**i, n) for i in range(exp + 1)]\n",
    "        if a_list[-1] == 1 and n - 1 not in a_list: # First type of example\n",
    "        #if n - 1 in a_list: # Last type of example\n",
    "            print(f\"n = {n}, base {base}: {a_list}\")\n",
    "            found = True\n",
    "            break\n"
   ]
  },
  {
   "cell_type": "code",
   "execution_count": null,
   "id": "69ad4ca4-8fe7-463a-bf01-04dc680113b5",
   "metadata": {},
   "outputs": [],
   "source": []
  }
 ],
 "metadata": {
  "kernelspec": {
   "display_name": "Python 3 (ipykernel)",
   "language": "python",
   "name": "python3"
  },
  "language_info": {
   "codemirror_mode": {
    "name": "ipython",
    "version": 3
   },
   "file_extension": ".py",
   "mimetype": "text/x-python",
   "name": "python",
   "nbconvert_exporter": "python",
   "pygments_lexer": "ipython3",
   "version": "3.11.2"
  }
 },
 "nbformat": 4,
 "nbformat_minor": 5
}

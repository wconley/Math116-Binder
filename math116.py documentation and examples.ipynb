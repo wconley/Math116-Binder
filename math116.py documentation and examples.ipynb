{
 "cells": [
  {
   "cell_type": "markdown",
   "id": "59ab8f02-218f-4367-bd9d-c69902df3376",
   "metadata": {},
   "source": [
    "# Basic functions for “clasical”/historical ciphers"
   ]
  },
  {
   "cell_type": "markdown",
   "id": "97bf8b60-061d-4324-942b-3b1ca0e52721",
   "metadata": {},
   "source": [
    "## Simple stuff for converting letters to numbers mod 26, etc: "
   ]
  },
  {
   "cell_type": "code",
   "execution_count": 1,
   "id": "89fe7f9f-45ad-49fc-86e8-d339be0100ea",
   "metadata": {},
   "outputs": [
    {
     "data": {
      "text/plain": [
       "'THISISATEST'"
      ]
     },
     "execution_count": 1,
     "metadata": {},
     "output_type": "execute_result"
    }
   ],
   "source": [
    "from math116 import cleanstring, tochar, tonum\n",
    "\n",
    "cleanstring(\"This is a test\")"
   ]
  },
  {
   "cell_type": "code",
   "execution_count": 2,
   "id": "d25794ee-c2cc-43f9-b84f-2d8557253bb6",
   "metadata": {},
   "outputs": [
    {
     "data": {
      "text/plain": [
       "(0, 1, 25)"
      ]
     },
     "execution_count": 2,
     "metadata": {},
     "output_type": "execute_result"
    }
   ],
   "source": [
    "tonum(\"A\"), tonum(\"B\"), tonum(\"Z\")"
   ]
  },
  {
   "cell_type": "code",
   "execution_count": 3,
   "id": "5d836f13-c7c8-472c-89ac-6d2d97c40934",
   "metadata": {},
   "outputs": [
    {
     "data": {
      "text/plain": [
       "'ABC'"
      ]
     },
     "execution_count": 3,
     "metadata": {},
     "output_type": "execute_result"
    }
   ],
   "source": [
    "tochar(0) + tochar(1) + tochar(2)"
   ]
  },
  {
   "cell_type": "markdown",
   "id": "d0dbdfa2-9f01-401a-b9a0-bff7821c3387",
   "metadata": {},
   "source": [
    "## Caesar (shift) cipher"
   ]
  },
  {
   "cell_type": "code",
   "execution_count": 4,
   "id": "2856236a-ae72-408b-ade2-00e6c3a1481c",
   "metadata": {},
   "outputs": [
    {
     "data": {
      "text/plain": [
       "'ESTDTDLEPDE'"
      ]
     },
     "execution_count": 4,
     "metadata": {},
     "output_type": "execute_result"
    }
   ],
   "source": [
    "from math116 import caesar_encrypt, caesar_decrypt\n",
    "\n",
    "plaintext = cleanstring(\"This is a test\")\n",
    "ciphertext = caesar_encrypt(plaintext, 11)\n",
    "ciphertext"
   ]
  },
  {
   "cell_type": "code",
   "execution_count": 5,
   "id": "36d0e8df-192d-4ea7-8229-be22974a203a",
   "metadata": {},
   "outputs": [
    {
     "data": {
      "text/plain": [
       "'THISISATEST'"
      ]
     },
     "execution_count": 5,
     "metadata": {},
     "output_type": "execute_result"
    }
   ],
   "source": [
    "caesar_decrypt(ciphertext, 11)"
   ]
  },
  {
   "cell_type": "markdown",
   "id": "3a6cdf93-d81a-40a1-bb95-3a4f0095b794",
   "metadata": {},
   "source": [
    "## Vigenère (polyalphabetic shift) cipher"
   ]
  },
  {
   "cell_type": "code",
   "execution_count": 6,
   "id": "ef8f20f2-581d-4c1b-81de-37249643c222",
   "metadata": {},
   "outputs": [
    {
     "data": {
      "text/plain": [
       "'UYSMHJTYXEPNBBBYAIICFUCRRSKVAYBQMZBH'"
      ]
     },
     "execution_count": 6,
     "metadata": {},
     "output_type": "execute_result"
    }
   ],
   "source": [
    "from math116 import vigenere_encrypt, vigenere_decrypt, vigenere_crack\n",
    "\n",
    "plaintext = cleanstring(\"The quick brown fox jumped over the lazy dog.\")\n",
    "ciphertext = vigenere_encrypt(plaintext, \"BROWN\")\n",
    "ciphertext"
   ]
  },
  {
   "cell_type": "code",
   "execution_count": 7,
   "id": "c0180b38-4b36-49f3-a809-be0e3b25f4f6",
   "metadata": {},
   "outputs": [
    {
     "data": {
      "text/plain": [
       "'THEQUICKBROWNFOXJUMPEDOVERTHELAZYDOG'"
      ]
     },
     "execution_count": 7,
     "metadata": {},
     "output_type": "execute_result"
    }
   ],
   "source": [
    "vigenere_decrypt(ciphertext, \"BROWN\")"
   ]
  },
  {
   "cell_type": "markdown",
   "id": "52dd8457-685b-4cca-bfd3-4e31c6c2b2bc",
   "metadata": {},
   "source": [
    "### The `vigenere_crack` function, demostrated below, \n",
    "\n",
    "puts together all the tricks we learned for doing a ciphertext-only attack on the Vigenère cipher (using letter frequency analysis). It just takes a ciphertext, and optionally a bound on the key length, and returns its best guess at the key, and the plaintext. "
   ]
  },
  {
   "cell_type": "code",
   "execution_count": 8,
   "id": "ee7e847c-28a3-41dd-b706-e17cf20f463a",
   "metadata": {},
   "outputs": [
    {
     "data": {
      "text/plain": [
       "('COMPLETEIICTORY',\n",
       " 'WETHEUNDRRSIGNEDPRISONEESOFWARBELONGINTTOTHEARMYOFNORGHERNVIRGINIAHAIINGBEENTHISDAYFURRENDEREDBYGEAERALROBERTELEEPOMMANDINGSAIDAEMYTOLIEUTENANTTENERALULYSSESSTRANTCOMMANDINGNRMIESOFUNITEDSGATESDOHEREBYGIIEOURSOLEMNPAROYEOFHONORTHATWEJILLNOTHEREAFTEESERVEINTHEARMIRSOFTHECONFEDERNTESTATESORINANLMILITARYCAPACIGYWHATEVERAGAINFTTHEUNITEDSTATRSOFAMERICAORREADERSAIDTOTHEENRMIESOFTHELATTEEUNTILPROPERTYEKCHANGEDINSUCHMNNNERASSHALLBEMHTUALLYAPPROVEDOYTHERESPECTIVENUTHORITIES')"
      ]
     },
     "execution_count": 8,
     "metadata": {},
     "output_type": "execute_result"
    }
   ],
   "source": [
    "ciphertext = cleanstring(\"\"\"\n",
    "    YSFWPYGHZZUBUECFDDXDSGIMAQYKRPDSXDYKBRBBQMVVYTAKDQRHVOPGKBMG\n",
    "    TUUCTEAEQQPZPVCPHTXDHTCNCTKSEBGFQSMCZIIMTTZIMDSDIPPXIXWOFOEB\n",
    "    KBSHLMWEMUAMCCGGIFTYEGXBMPXFRJWZKHDILWBZCGHTMOAMCOMGKVZOBSJM\n",
    "    HIZXEIWWOIVXGUMJSDTMCZMQMQNFJMNSYCAEKSGMQYVFLQFFWLXPIRQNEBFR\n",
    "    JSDTLJMIMAGKJVGPHTTLVFMZAQYHYCECZUPHXVVBGLHRRGGAGTRTRTUKEWKY\n",
    "    TMOPAEVMOGYAOKCXSDPREBRNBVASLLKHQSDXTXZAQYODCTWOPZVKIILGKGRG\n",
    "    FHAISIXRZUKXGFDVVQALXMIMCPMWCNTCBTCXRISKJTBXCFWZHFGAQVVPXFRQ\n",
    "    UVMAWFXQPBWTZCWCDBGZZXHWGVASICUDQREMOIVCVACIGVWQH\n",
    "\"\"\")\n",
    "vigenere_crack(ciphertext)"
   ]
  },
  {
   "cell_type": "markdown",
   "id": "066614de-7734-463f-8665-3124befe114b",
   "metadata": {},
   "source": [
    "### The above example *almost* worked perfectly. \n",
    "\n",
    "In this case, the plaintext was encrypted with a 15-letter key, and the ciphertext just isn't long enough for a fully automated attack based strictly on letter frequencies to work with a key that long. However, the result is close enough to be able to easily figure out the one incorrect letter in the key! \n"
   ]
  },
  {
   "cell_type": "markdown",
   "id": "f77256ee-b6c7-48fb-a643-f67336e6afb7",
   "metadata": {},
   "source": [
    "<br>\n",
    "<br>\n",
    "<br>\n",
    "<br>\n",
    "<br>\n"
   ]
  },
  {
   "cell_type": "markdown",
   "id": "f8f927f1-1b1d-49ff-b8ec-a69f8e372993",
   "metadata": {},
   "source": [
    "## Later on, when dealing with RSA, some textbook problems use an encoding \n",
    "\n",
    "in which each letter is mapped to a number in the range$^*$ 1 .. 26, and then all of these numbers are just concatenated together, in base 10. So, for example, the word BADGER encodes as follows: B $\\to 02$, A $\\to 01$, D $\\to 04$, G $\\to 07$, E $\\to 05$, and R $\\to 18$, so all together \n",
    "$$ \\mathtt{BADGER} \\to 20104070518 $$\n",
    "\n",
    "$^*$ Note that this is different than the above encoding of individual letters, in which we map each letter to a number between 0 and 25, inclusive. \n",
    "\n",
    "The following two functions can automate this encoding/decoding for you: "
   ]
  },
  {
   "cell_type": "code",
   "execution_count": 9,
   "id": "d837c4dd-a85a-46d4-8364-37201ff0c542",
   "metadata": {},
   "outputs": [
    {
     "data": {
      "text/plain": [
       "20104070518"
      ]
     },
     "execution_count": 9,
     "metadata": {},
     "output_type": "execute_result"
    }
   ],
   "source": [
    "from math116 import text_to_num, num_to_text\n",
    "\n",
    "text_to_num(\"BADGER\")"
   ]
  },
  {
   "cell_type": "code",
   "execution_count": 10,
   "id": "840656f1-f626-4849-9991-5fea73dc47bf",
   "metadata": {},
   "outputs": [
    {
     "data": {
      "text/plain": [
       "'DOYOUGETIT'"
      ]
     },
     "execution_count": 10,
     "metadata": {},
     "output_type": "execute_result"
    }
   ],
   "source": [
    "num_to_text(4152515210705200920)"
   ]
  },
  {
   "cell_type": "markdown",
   "id": "6a677787-c578-473a-9d87-bd46bbbc25bc",
   "metadata": {},
   "source": [
    "<br>\n",
    "<br>\n",
    "<br>\n",
    "<br>\n",
    "<br>\n",
    "\n",
    "<br>\n",
    "<br>\n",
    "<br>\n",
    "<br>\n",
    "<br>\n",
    "\n",
    "# Basic number theory functions"
   ]
  },
  {
   "cell_type": "markdown",
   "id": "80795fc3-d59e-4e8c-8cf8-3e15e1fb5f0f",
   "metadata": {},
   "source": [
    "## GCDs, the Extended Euclidean Algorithm, and one immediate application of it"
   ]
  },
  {
   "cell_type": "code",
   "execution_count": 11,
   "id": "3af22b1a-d098-4408-b060-7f16e596aa5d",
   "metadata": {},
   "outputs": [],
   "source": [
    "from math116 import gcd, euclidean, inverse"
   ]
  },
  {
   "cell_type": "code",
   "execution_count": 12,
   "id": "85d216d3-2147-4e03-b87e-1a77b254a289",
   "metadata": {},
   "outputs": [
    {
     "name": "stdout",
     "output_type": "stream",
     "text": [
      "Help on function gcd in module math116:\n",
      "\n",
      "gcd(a, b)\n",
      "    Returns the GCD of a and b\n",
      "\n"
     ]
    }
   ],
   "source": [
    "# Do the “basic” Euclidean algorithm, i.e. just compute the gcd\n",
    "help(gcd)"
   ]
  },
  {
   "cell_type": "code",
   "execution_count": 13,
   "id": "3c7abfde-164f-40db-9f08-47f6f2132662",
   "metadata": {},
   "outputs": [
    {
     "data": {
      "text/plain": [
       "14"
      ]
     },
     "execution_count": 13,
     "metadata": {},
     "output_type": "execute_result"
    }
   ],
   "source": [
    "gcd(42, 182)"
   ]
  },
  {
   "cell_type": "code",
   "execution_count": 14,
   "id": "e9a8797e-e9e7-4f15-b45f-b24c498e53c5",
   "metadata": {},
   "outputs": [
    {
     "data": {
      "text/plain": [
       "14"
      ]
     },
     "execution_count": 14,
     "metadata": {},
     "output_type": "execute_result"
    }
   ],
   "source": [
    "gcd(-42, 182)"
   ]
  },
  {
   "cell_type": "code",
   "execution_count": 15,
   "id": "bfb6b381-063a-4f46-a373-8cdf3877920a",
   "metadata": {},
   "outputs": [
    {
     "data": {
      "text/plain": [
       "14"
      ]
     },
     "execution_count": 15,
     "metadata": {},
     "output_type": "execute_result"
    }
   ],
   "source": [
    "gcd(42, -182)"
   ]
  },
  {
   "cell_type": "code",
   "execution_count": 16,
   "id": "3b7f6c1b-00b9-4fc0-b63b-5bb92bc66442",
   "metadata": {},
   "outputs": [
    {
     "name": "stdout",
     "output_type": "stream",
     "text": [
      "Help on function euclidean in module math116:\n",
      "\n",
      "euclidean(a, b)\n",
      "    Returns g, x, y, such that g = gcd(a, b) and ax + by = g\n",
      "\n"
     ]
    }
   ],
   "source": [
    "# Do the Extended Euclidean Algorithm\n",
    "help(euclidean)"
   ]
  },
  {
   "cell_type": "code",
   "execution_count": 17,
   "id": "05e1414c-fab0-486e-bd14-0c59148974eb",
   "metadata": {},
   "outputs": [
    {
     "data": {
      "text/plain": [
       "(14, -4, 1)"
      ]
     },
     "execution_count": 17,
     "metadata": {},
     "output_type": "execute_result"
    }
   ],
   "source": [
    "euclidean(42, 182)"
   ]
  },
  {
   "cell_type": "code",
   "execution_count": 18,
   "id": "a72643b1-90fa-4c9f-b1ae-afac3da6e83f",
   "metadata": {},
   "outputs": [
    {
     "name": "stdout",
     "output_type": "stream",
     "text": [
      "gcd(42, 182) = 14, and, like, oh my gosh, 42×(-4) + 182×(1) = 14. Wowie!\n"
     ]
    }
   ],
   "source": [
    "g, x, y = euclidean(42, 182)\n",
    "print(f\"gcd(42, 182) = {g}, and, like, oh my gosh, 42×({x}) + 182×({y}) = {42*x + 182*y}. Wowie!\")"
   ]
  },
  {
   "cell_type": "code",
   "execution_count": 19,
   "id": "7ac0dbab-64b1-46ec-aca2-0605d6f8d113",
   "metadata": {},
   "outputs": [
    {
     "name": "stdout",
     "output_type": "stream",
     "text": [
      "Help on function inverse in module math116:\n",
      "\n",
      "inverse(a, n)\n",
      "    Returns the inverse of a modulo n, raises ValueError if not coprime\n",
      "\n"
     ]
    }
   ],
   "source": [
    "# Compute the multiplicative inverse of a (mod n)\n",
    "help(inverse)"
   ]
  },
  {
   "cell_type": "code",
   "execution_count": 20,
   "id": "118d0c99-1f8c-4fa2-a343-fc31758854aa",
   "metadata": {},
   "outputs": [
    {
     "data": {
      "text/plain": [
       "7"
      ]
     },
     "execution_count": 20,
     "metadata": {},
     "output_type": "execute_result"
    }
   ],
   "source": [
    "inverse(15, 26)"
   ]
  },
  {
   "cell_type": "code",
   "execution_count": 21,
   "id": "008a92db-ddab-4c26-bff9-235745226106",
   "metadata": {},
   "outputs": [
    {
     "data": {
      "text/plain": [
       "1"
      ]
     },
     "execution_count": 21,
     "metadata": {},
     "output_type": "execute_result"
    }
   ],
   "source": [
    "7 * 15 % 26"
   ]
  },
  {
   "cell_type": "code",
   "execution_count": 22,
   "id": "d440599b-7fc0-4e78-94bf-5ba6a16800ce",
   "metadata": {},
   "outputs": [
    {
     "ename": "ValueError",
     "evalue": "6 is not invertible modulo 26",
     "output_type": "error",
     "traceback": [
      "\u001b[0;31m---------------------------------------------------------------------------\u001b[0m",
      "\u001b[0;31mValueError\u001b[0m                                Traceback (most recent call last)",
      "Cell \u001b[0;32mIn[22], line 1\u001b[0m\n\u001b[0;32m----> 1\u001b[0m \u001b[43minverse\u001b[49m\u001b[43m(\u001b[49m\u001b[38;5;241;43m6\u001b[39;49m\u001b[43m,\u001b[49m\u001b[43m \u001b[49m\u001b[38;5;241;43m26\u001b[39;49m\u001b[43m)\u001b[49m \u001b[38;5;66;03m# Should raise a ValueError!\u001b[39;00m\n",
      "File \u001b[0;32m~/Home/Teaching/UCLA/2024-01 (Winter) Math 116/Computer materials/Binder/math116.py:159\u001b[0m, in \u001b[0;36minverse\u001b[0;34m(a, n)\u001b[0m\n\u001b[1;32m    157\u001b[0m \u001b[38;5;28;01mif\u001b[39;00m d \u001b[38;5;241m==\u001b[39m \u001b[38;5;241m1\u001b[39m:\n\u001b[1;32m    158\u001b[0m     \u001b[38;5;28;01mreturn\u001b[39;00m x \u001b[38;5;241m%\u001b[39m n\n\u001b[0;32m--> 159\u001b[0m \u001b[38;5;28;01mraise\u001b[39;00m \u001b[38;5;167;01mValueError\u001b[39;00m(\u001b[38;5;124mf\u001b[39m\u001b[38;5;124m\"\u001b[39m\u001b[38;5;132;01m{\u001b[39;00ma\u001b[38;5;132;01m}\u001b[39;00m\u001b[38;5;124m is not invertible modulo \u001b[39m\u001b[38;5;132;01m{\u001b[39;00mn\u001b[38;5;132;01m}\u001b[39;00m\u001b[38;5;124m\"\u001b[39m)\n",
      "\u001b[0;31mValueError\u001b[0m: 6 is not invertible modulo 26"
     ]
    }
   ],
   "source": [
    "inverse(6, 26) # Should raise a ValueError!"
   ]
  },
  {
   "cell_type": "markdown",
   "id": "b5d5756f-8991-4368-9554-c1c01a62af56",
   "metadata": {},
   "source": [
    "## Solving systems of congruences: the Chinese Remainder Theorem"
   ]
  },
  {
   "cell_type": "code",
   "execution_count": 23,
   "id": "179b74ab-3b9b-41e0-b1cf-ef0ec72f6c55",
   "metadata": {},
   "outputs": [],
   "source": [
    "from math116 import crt, crt_basic"
   ]
  },
  {
   "cell_type": "code",
   "execution_count": 24,
   "id": "5f2b4c3e-10ff-426e-be4c-fa2ef8a12571",
   "metadata": {},
   "outputs": [
    {
     "name": "stdout",
     "output_type": "stream",
     "text": [
      "Help on function crt_basic in module math116:\n",
      "\n",
      "crt_basic(a1, a2, m1, m2)\n",
      "    Performs the Chinese Remainder Theorem on a system of TWO congruences\n",
      "    \n",
      "    This function ONLY WORKS with a system of two congruences, and only works \n",
      "    if the two moduli m1 and m2 are coprime. In that case, the modulus of the \n",
      "    result should just be m1 * m2, so this function doesn't bother returning \n",
      "    that modulus. It just computes and returns a residue x that is congruent to \n",
      "    a1 modulo m1 and is congruent to a2 modulo m2. \n",
      "    \n",
      "    This will raise ValueError if the moduli m1 and m2 are not relatively prime.\n",
      "\n"
     ]
    }
   ],
   "source": [
    "# Do the basic Chinese Remainder Theorem, on two congruences, with coprime moduli\n",
    "help(crt_basic)"
   ]
  },
  {
   "cell_type": "code",
   "execution_count": 25,
   "id": "1f97c0d3-9883-4f55-83b6-dcca25fe1b54",
   "metadata": {},
   "outputs": [
    {
     "data": {
      "text/plain": [
       "80"
      ]
     },
     "execution_count": 25,
     "metadata": {},
     "output_type": "execute_result"
    }
   ],
   "source": [
    "crt_basic(3, 5, 11, 15)"
   ]
  },
  {
   "cell_type": "markdown",
   "id": "e5a158b3-833c-42c4-92f4-11786982d4fa",
   "metadata": {},
   "source": [
    "The above means that $\\begin{cases} x \\equiv 3 \\pmod{11} \\\\ x \\equiv 5 \\pmod{15} \\end{cases} \\qquad \\iff \\qquad x \\equiv 80 \\pmod{165}$"
   ]
  },
  {
   "cell_type": "code",
   "execution_count": 26,
   "id": "3b26ba15-16fd-4018-b887-29f0f88c80e4",
   "metadata": {},
   "outputs": [
    {
     "ename": "ValueError",
     "evalue": "10 and 15 are not coprime",
     "output_type": "error",
     "traceback": [
      "\u001b[0;31m---------------------------------------------------------------------------\u001b[0m",
      "\u001b[0;31mValueError\u001b[0m                                Traceback (most recent call last)",
      "Cell \u001b[0;32mIn[26], line 2\u001b[0m\n\u001b[1;32m      1\u001b[0m \u001b[38;5;66;03m# The following fails because 10 and 15 are not coprime, even though the system has a solution\u001b[39;00m\n\u001b[0;32m----> 2\u001b[0m \u001b[43mcrt_basic\u001b[49m\u001b[43m(\u001b[49m\u001b[38;5;241;43m3\u001b[39;49m\u001b[43m,\u001b[49m\u001b[43m \u001b[49m\u001b[38;5;241;43m8\u001b[39;49m\u001b[43m,\u001b[49m\u001b[43m \u001b[49m\u001b[38;5;241;43m10\u001b[39;49m\u001b[43m,\u001b[49m\u001b[43m \u001b[49m\u001b[38;5;241;43m15\u001b[39;49m\u001b[43m)\u001b[49m\n",
      "File \u001b[0;32m~/Home/Teaching/UCLA/2024-01 (Winter) Math 116/Computer materials/Binder/math116.py:200\u001b[0m, in \u001b[0;36mcrt_basic\u001b[0;34m(a1, a2, m1, m2)\u001b[0m\n\u001b[1;32m    198\u001b[0m \u001b[38;5;28;01mif\u001b[39;00m g \u001b[38;5;241m==\u001b[39m \u001b[38;5;241m1\u001b[39m:\n\u001b[1;32m    199\u001b[0m     \u001b[38;5;28;01mreturn\u001b[39;00m (a1 \u001b[38;5;241m*\u001b[39m m2 \u001b[38;5;241m*\u001b[39m i2 \u001b[38;5;241m+\u001b[39m a2 \u001b[38;5;241m*\u001b[39m m1 \u001b[38;5;241m*\u001b[39m i1) \u001b[38;5;241m%\u001b[39m (m1 \u001b[38;5;241m*\u001b[39m m2)\n\u001b[0;32m--> 200\u001b[0m \u001b[38;5;28;01mraise\u001b[39;00m \u001b[38;5;167;01mValueError\u001b[39;00m(\u001b[38;5;124mf\u001b[39m\u001b[38;5;124m\"\u001b[39m\u001b[38;5;132;01m{\u001b[39;00mm1\u001b[38;5;132;01m}\u001b[39;00m\u001b[38;5;124m and \u001b[39m\u001b[38;5;132;01m{\u001b[39;00mm2\u001b[38;5;132;01m}\u001b[39;00m\u001b[38;5;124m are not coprime\u001b[39m\u001b[38;5;124m\"\u001b[39m)\n",
      "\u001b[0;31mValueError\u001b[0m: 10 and 15 are not coprime"
     ]
    }
   ],
   "source": [
    "# The following fails because 10 and 15 are not coprime, even though the system has a solution\n",
    "crt_basic(3, 8, 10, 15)"
   ]
  },
  {
   "cell_type": "code",
   "execution_count": 27,
   "id": "95ec27e3-d3d0-41da-b87c-0ab92e2a045c",
   "metadata": {},
   "outputs": [
    {
     "name": "stdout",
     "output_type": "stream",
     "text": [
      "Help on function crt in module math116:\n",
      "\n",
      "crt(residues, moduli)\n",
      "    Performs the Chinese Remainder Theorem\n",
      "    \n",
      "    Returns a pair (x, n) where n is the product of the moduli in the second \n",
      "    argument, and x is congruent to each residue in the first argument modulo \n",
      "    the corresponding modulus from the second argument. \n",
      "    \n",
      "    Note that if you have the residues and moduli already paired off, you can \n",
      "    just \"un-pair\" them with zip, e.g.: \n",
      "        crt(*zip((2, 5), (4, 7), (1, 11))) # returns (67, 385)\n",
      "    \n",
      "    This will raise ValueError if the moduli are not pairwise relatively prime.\n",
      "\n"
     ]
    }
   ],
   "source": [
    "# A slightly fancier version of the CRT, that handles more than two congruences\n",
    "help(crt)\n",
    "# If you look at the source code for this, you might notice that it implements \n",
    "# the algorithm exactly as described in problem 7 from Homework 4. "
   ]
  },
  {
   "cell_type": "code",
   "execution_count": 28,
   "id": "169bec77-b2e4-4208-aa2c-91933320e8e5",
   "metadata": {},
   "outputs": [
    {
     "data": {
      "text/plain": [
       "(67, 385)"
      ]
     },
     "execution_count": 28,
     "metadata": {},
     "output_type": "execute_result"
    }
   ],
   "source": [
    "crt([2, 4, 1], [5, 7, 11])"
   ]
  },
  {
   "cell_type": "markdown",
   "id": "b3d54528-9f37-4b84-82a4-3bb34efcf1a6",
   "metadata": {},
   "source": [
    "The above means that $\\begin{cases} x \\equiv 2 \\pmod{5} \\\\ x \\equiv 4 \\pmod{7} \\\\ x \\equiv 1 \\pmod{11} \\end{cases} \\qquad \\iff \\qquad x \\equiv 67 \\pmod{385}$"
   ]
  },
  {
   "cell_type": "code",
   "execution_count": 29,
   "id": "ef74ffba-b060-4826-bbe3-0edf4ec1c768",
   "metadata": {},
   "outputs": [
    {
     "data": {
      "text/plain": [
       "(67, 385)"
      ]
     },
     "execution_count": 29,
     "metadata": {},
     "output_type": "execute_result"
    }
   ],
   "source": [
    "# As explained in the documentation, if you have the a_i's and m_i's already \n",
    "# paired together, you can call crt with 'zip', as follows: \n",
    "cong1 = (2, 5)    # 2 (mod 5)\n",
    "cong2 = (4, 7)    # 4 (mod 7)\n",
    "cong3 = (1, 11)   # 1 (mod 11)\n",
    "crt(*zip(cong1, cong2, cong3))"
   ]
  },
  {
   "cell_type": "code",
   "execution_count": 30,
   "id": "47fa0dbc-46d6-453c-8c39-f53395c37036",
   "metadata": {},
   "outputs": [
    {
     "ename": "ValueError",
     "evalue": "2250 is not invertible modulo 12",
     "output_type": "error",
     "traceback": [
      "\u001b[0;31m---------------------------------------------------------------------------\u001b[0m",
      "\u001b[0;31mValueError\u001b[0m                                Traceback (most recent call last)",
      "Cell \u001b[0;32mIn[30], line 6\u001b[0m\n\u001b[1;32m      4\u001b[0m cong2 \u001b[38;5;241m=\u001b[39m (\u001b[38;5;241m28\u001b[39m, \u001b[38;5;241m50\u001b[39m)   \u001b[38;5;66;03m# 28 (mod 50)\u001b[39;00m\n\u001b[1;32m      5\u001b[0m cong3 \u001b[38;5;241m=\u001b[39m (\u001b[38;5;241m13\u001b[39m, \u001b[38;5;241m45\u001b[39m)   \u001b[38;5;66;03m# 13 (mod 45)\u001b[39;00m\n\u001b[0;32m----> 6\u001b[0m \u001b[43mcrt\u001b[49m\u001b[43m(\u001b[49m\u001b[38;5;241;43m*\u001b[39;49m\u001b[38;5;28;43mzip\u001b[39;49m\u001b[43m(\u001b[49m\u001b[43mcong1\u001b[49m\u001b[43m,\u001b[49m\u001b[43m \u001b[49m\u001b[43mcong2\u001b[49m\u001b[43m,\u001b[49m\u001b[43m \u001b[49m\u001b[43mcong3\u001b[49m\u001b[43m)\u001b[49m\u001b[43m)\u001b[49m\n",
      "File \u001b[0;32m~/Home/Teaching/UCLA/2024-01 (Winter) Math 116/Computer materials/Binder/math116.py:180\u001b[0m, in \u001b[0;36mcrt\u001b[0;34m(residues, moduli)\u001b[0m\n\u001b[1;32m    178\u001b[0m \u001b[38;5;28;01mfor\u001b[39;00m a, m \u001b[38;5;129;01min\u001b[39;00m \u001b[38;5;28mzip\u001b[39m(residues, moduli):\n\u001b[1;32m    179\u001b[0m     y \u001b[38;5;241m=\u001b[39m bigmodulus \u001b[38;5;241m/\u001b[39m\u001b[38;5;241m/\u001b[39m m\n\u001b[0;32m--> 180\u001b[0m     z \u001b[38;5;241m=\u001b[39m \u001b[43minverse\u001b[49m\u001b[43m(\u001b[49m\u001b[43my\u001b[49m\u001b[43m,\u001b[49m\u001b[43m \u001b[49m\u001b[43mm\u001b[49m\u001b[43m)\u001b[49m \u001b[38;5;66;03m# This will raise ValueError if y is not coprime to m\u001b[39;00m\n\u001b[1;32m    181\u001b[0m     bigresidue \u001b[38;5;241m=\u001b[39m (bigresidue \u001b[38;5;241m+\u001b[39m a\u001b[38;5;241m*\u001b[39my\u001b[38;5;241m*\u001b[39mz) \u001b[38;5;241m%\u001b[39m bigmodulus\n\u001b[1;32m    182\u001b[0m \u001b[38;5;28;01mreturn\u001b[39;00m bigresidue, bigmodulus\n",
      "File \u001b[0;32m~/Home/Teaching/UCLA/2024-01 (Winter) Math 116/Computer materials/Binder/math116.py:159\u001b[0m, in \u001b[0;36minverse\u001b[0;34m(a, n)\u001b[0m\n\u001b[1;32m    157\u001b[0m \u001b[38;5;28;01mif\u001b[39;00m d \u001b[38;5;241m==\u001b[39m \u001b[38;5;241m1\u001b[39m:\n\u001b[1;32m    158\u001b[0m     \u001b[38;5;28;01mreturn\u001b[39;00m x \u001b[38;5;241m%\u001b[39m n\n\u001b[0;32m--> 159\u001b[0m \u001b[38;5;28;01mraise\u001b[39;00m \u001b[38;5;167;01mValueError\u001b[39;00m(\u001b[38;5;124mf\u001b[39m\u001b[38;5;124m\"\u001b[39m\u001b[38;5;132;01m{\u001b[39;00ma\u001b[38;5;132;01m}\u001b[39;00m\u001b[38;5;124m is not invertible modulo \u001b[39m\u001b[38;5;132;01m{\u001b[39;00mn\u001b[38;5;132;01m}\u001b[39;00m\u001b[38;5;124m\"\u001b[39m)\n",
      "\u001b[0;31mValueError\u001b[0m: 2250 is not invertible modulo 12"
     ]
    }
   ],
   "source": [
    "# The following will fail since the moduli are not pairwise coprime, even though \n",
    "# the system of congruences does have a solution. \n",
    "cong1 = (4, 12)    # 4 (mod 12)\n",
    "cong2 = (28, 50)   # 28 (mod 50)\n",
    "cong3 = (13, 45)   # 13 (mod 45)\n",
    "crt(*zip(cong1, cong2, cong3))"
   ]
  },
  {
   "cell_type": "code",
   "execution_count": 31,
   "id": "2edcb548-b9c0-4e7d-9fec-a534866a7fd0",
   "metadata": {},
   "outputs": [],
   "source": [
    "from math116 import crt_general"
   ]
  },
  {
   "cell_type": "code",
   "execution_count": 32,
   "id": "13cc32da-b542-4a6b-808c-4d71968e2dae",
   "metadata": {},
   "outputs": [
    {
     "name": "stdout",
     "output_type": "stream",
     "text": [
      "Help on function crt_general in module math116:\n",
      "\n",
      "crt_general(residues, moduli)\n",
      "    Performs the Chinese Remainder Theorem\n",
      "    \n",
      "    Returns a pair (x, n) where n is the least common multiple of the moduli in \n",
      "    the second argument, and x is congruent to each residue in the first \n",
      "    argument modulo the corresponding modulus from the second argument. \n",
      "    \n",
      "    Note that if you have the residues and moduli already paired off, you can \n",
      "    just \"un-pair\" them with zip, e.g.: \n",
      "        crt_general(*zip((2, 5), (4, 7), (1, 11))) # returns (67, 385)\n",
      "    \n",
      "    This version works even if the moduli are not pairwise relatively prime, if \n",
      "    there is a solution. It will raise ValueError if there is no solution.\n",
      "\n"
     ]
    }
   ],
   "source": [
    "# If you want to solve systems with non-coprime moduli, you can use crt_general\n",
    "help(crt_general)"
   ]
  },
  {
   "cell_type": "code",
   "execution_count": 33,
   "id": "cfd903dd-4847-41b8-8552-94f230f3df22",
   "metadata": {},
   "outputs": [
    {
     "data": {
      "text/plain": [
       "(23, 30)"
      ]
     },
     "execution_count": 33,
     "metadata": {},
     "output_type": "execute_result"
    }
   ],
   "source": [
    "# The example above that failed with 'crt_basic'\n",
    "crt_general((3, 8), (10, 15))"
   ]
  },
  {
   "cell_type": "markdown",
   "id": "640a3d3f-7462-497a-9a71-576f70d99e56",
   "metadata": {},
   "source": [
    "The above means that $\\begin{cases} x \\equiv 3 \\pmod{10} \\\\ x \\equiv 8 \\pmod{15} \\end{cases} \\qquad \\iff \\qquad x \\equiv 23 \\pmod{30}$"
   ]
  },
  {
   "cell_type": "code",
   "execution_count": 34,
   "id": "0a7e4cdc-1b9d-4fbf-bd55-047a10077895",
   "metadata": {},
   "outputs": [
    {
     "ename": "ValueError",
     "evalue": "No solution to this system of congruences",
     "output_type": "error",
     "traceback": [
      "\u001b[0;31m---------------------------------------------------------------------------\u001b[0m",
      "\u001b[0;31mValueError\u001b[0m                                Traceback (most recent call last)",
      "Cell \u001b[0;32mIn[34], line 2\u001b[0m\n\u001b[1;32m      1\u001b[0m \u001b[38;5;66;03m# But the following fails because there actually is no solution\u001b[39;00m\n\u001b[0;32m----> 2\u001b[0m \u001b[43mcrt_general\u001b[49m\u001b[43m(\u001b[49m\u001b[43m(\u001b[49m\u001b[38;5;241;43m3\u001b[39;49m\u001b[43m,\u001b[49m\u001b[43m \u001b[49m\u001b[38;5;241;43m7\u001b[39;49m\u001b[43m)\u001b[49m\u001b[43m,\u001b[49m\u001b[43m \u001b[49m\u001b[43m(\u001b[49m\u001b[38;5;241;43m10\u001b[39;49m\u001b[43m,\u001b[49m\u001b[43m \u001b[49m\u001b[38;5;241;43m15\u001b[39;49m\u001b[43m)\u001b[49m\u001b[43m)\u001b[49m\n",
      "File \u001b[0;32m~/Home/Teaching/UCLA/2024-01 (Winter) Math 116/Computer materials/Binder/math116.py:225\u001b[0m, in \u001b[0;36mcrt_general\u001b[0;34m(residues, moduli)\u001b[0m\n\u001b[1;32m    223\u001b[0m q2, r2 \u001b[38;5;241m=\u001b[39m \u001b[38;5;28mdivmod\u001b[39m(a2, g)\n\u001b[1;32m    224\u001b[0m \u001b[38;5;28;01mif\u001b[39;00m r1 \u001b[38;5;241m!=\u001b[39m r2:\n\u001b[0;32m--> 225\u001b[0m     \u001b[38;5;28;01mraise\u001b[39;00m \u001b[38;5;167;01mValueError\u001b[39;00m(\u001b[38;5;124m\"\u001b[39m\u001b[38;5;124mNo solution to this system of congruences\u001b[39m\u001b[38;5;124m\"\u001b[39m)\n\u001b[1;32m    226\u001b[0m new_m \u001b[38;5;241m=\u001b[39m m1 \u001b[38;5;241m*\u001b[39m m2 \u001b[38;5;241m/\u001b[39m\u001b[38;5;241m/\u001b[39m g\n\u001b[1;32m    227\u001b[0m a1 \u001b[38;5;241m=\u001b[39m (q1 \u001b[38;5;241m*\u001b[39m m2 \u001b[38;5;241m*\u001b[39m i2 \u001b[38;5;241m+\u001b[39m q2 \u001b[38;5;241m*\u001b[39m m1 \u001b[38;5;241m*\u001b[39m i1 \u001b[38;5;241m+\u001b[39m r1) \u001b[38;5;241m%\u001b[39m new_m\n",
      "\u001b[0;31mValueError\u001b[0m: No solution to this system of congruences"
     ]
    }
   ],
   "source": [
    "# But the following fails because there actually is no solution\n",
    "crt_general((3, 7), (10, 15))"
   ]
  },
  {
   "cell_type": "code",
   "execution_count": 35,
   "id": "93b116f5-95fd-4968-a29b-54fde89aba94",
   "metadata": {},
   "outputs": [
    {
     "data": {
      "text/plain": [
       "(328, 900)"
      ]
     },
     "execution_count": 35,
     "metadata": {},
     "output_type": "execute_result"
    }
   ],
   "source": [
    "# The example above that failed with 'crt'\n",
    "cong1 = (4, 12)    # 4 (mod 12)\n",
    "cong2 = (28, 50)   # 28 (mod 50)\n",
    "cong3 = (13, 45)   # 13 (mod 45)\n",
    "crt_general(*zip(cong1, cong2, cong3))"
   ]
  },
  {
   "cell_type": "code",
   "execution_count": null,
   "id": "8923fb8d-9c13-437a-a4ee-6533bb75d893",
   "metadata": {},
   "outputs": [],
   "source": []
  }
 ],
 "metadata": {
  "kernelspec": {
   "display_name": "Python 3 (ipykernel)",
   "language": "python",
   "name": "python3"
  },
  "language_info": {
   "codemirror_mode": {
    "name": "ipython",
    "version": 3
   },
   "file_extension": ".py",
   "mimetype": "text/x-python",
   "name": "python",
   "nbconvert_exporter": "python",
   "pygments_lexer": "ipython3",
   "version": "3.11.2"
  }
 },
 "nbformat": 4,
 "nbformat_minor": 5
}

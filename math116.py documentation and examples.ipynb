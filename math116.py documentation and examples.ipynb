{
 "cells": [
  {
   "cell_type": "markdown",
   "id": "59ab8f02-218f-4367-bd9d-c69902df3376",
   "metadata": {},
   "source": [
    "# Basic functions for “clasical”/historical ciphers"
   ]
  },
  {
   "cell_type": "markdown",
   "id": "97bf8b60-061d-4324-942b-3b1ca0e52721",
   "metadata": {},
   "source": [
    "## Simple stuff for converting letters to numbers mod 26, etc: "
   ]
  },
  {
   "cell_type": "code",
   "execution_count": 18,
   "id": "89fe7f9f-45ad-49fc-86e8-d339be0100ea",
   "metadata": {},
   "outputs": [
    {
     "data": {
      "text/plain": [
       "'THISISATEST'"
      ]
     },
     "execution_count": 18,
     "metadata": {},
     "output_type": "execute_result"
    }
   ],
   "source": [
    "from math116 import cleanstring, tochar, tonum\n",
    "\n",
    "cleanstring(\"This is a test\")"
   ]
  },
  {
   "cell_type": "code",
   "execution_count": 19,
   "id": "d25794ee-c2cc-43f9-b84f-2d8557253bb6",
   "metadata": {},
   "outputs": [
    {
     "data": {
      "text/plain": [
       "(0, 1, 25)"
      ]
     },
     "execution_count": 19,
     "metadata": {},
     "output_type": "execute_result"
    }
   ],
   "source": [
    "tonum(\"A\"), tonum(\"B\"), tonum(\"Z\")"
   ]
  },
  {
   "cell_type": "code",
   "execution_count": 20,
   "id": "5d836f13-c7c8-472c-89ac-6d2d97c40934",
   "metadata": {},
   "outputs": [
    {
     "data": {
      "text/plain": [
       "'ABC'"
      ]
     },
     "execution_count": 20,
     "metadata": {},
     "output_type": "execute_result"
    }
   ],
   "source": [
    "tochar(0) + tochar(1) + tochar(2)"
   ]
  },
  {
   "cell_type": "markdown",
   "id": "d0dbdfa2-9f01-401a-b9a0-bff7821c3387",
   "metadata": {},
   "source": [
    "## Caesar (shift) cipher"
   ]
  },
  {
   "cell_type": "code",
   "execution_count": 21,
   "id": "2856236a-ae72-408b-ade2-00e6c3a1481c",
   "metadata": {},
   "outputs": [
    {
     "data": {
      "text/plain": [
       "'ESTDTDLEPDE'"
      ]
     },
     "execution_count": 21,
     "metadata": {},
     "output_type": "execute_result"
    }
   ],
   "source": [
    "from math116 import caesar_encrypt, caesar_decrypt\n",
    "\n",
    "plaintext = cleanstring(\"This is a test\")\n",
    "ciphertext = caesar_encrypt(plaintext, 11)\n",
    "ciphertext"
   ]
  },
  {
   "cell_type": "code",
   "execution_count": 22,
   "id": "36d0e8df-192d-4ea7-8229-be22974a203a",
   "metadata": {},
   "outputs": [
    {
     "data": {
      "text/plain": [
       "'THISISATEST'"
      ]
     },
     "execution_count": 22,
     "metadata": {},
     "output_type": "execute_result"
    }
   ],
   "source": [
    "caesar_decrypt(ciphertext, 11)"
   ]
  },
  {
   "cell_type": "markdown",
   "id": "3a6cdf93-d81a-40a1-bb95-3a4f0095b794",
   "metadata": {},
   "source": [
    "## Vigenère (polyalphabetic shift) cipher"
   ]
  },
  {
   "cell_type": "code",
   "execution_count": 23,
   "id": "ef8f20f2-581d-4c1b-81de-37249643c222",
   "metadata": {},
   "outputs": [
    {
     "data": {
      "text/plain": [
       "'UYSMHJTYXEPNBBBYAIICFUCRRSKVAYBQMZBH'"
      ]
     },
     "execution_count": 23,
     "metadata": {},
     "output_type": "execute_result"
    }
   ],
   "source": [
    "from math116 import vigenere_encrypt, vigenere_decrypt, vigenere_crack\n",
    "\n",
    "plaintext = cleanstring(\"The quick brown fox jumped over the lazy dog.\")\n",
    "ciphertext = vigenere_encrypt(plaintext, \"BROWN\")\n",
    "ciphertext"
   ]
  },
  {
   "cell_type": "code",
   "execution_count": 24,
   "id": "c0180b38-4b36-49f3-a809-be0e3b25f4f6",
   "metadata": {},
   "outputs": [
    {
     "data": {
      "text/plain": [
       "'THEQUICKBROWNFOXJUMPEDOVERTHELAZYDOG'"
      ]
     },
     "execution_count": 24,
     "metadata": {},
     "output_type": "execute_result"
    }
   ],
   "source": [
    "vigenere_decrypt(ciphertext, \"BROWN\")"
   ]
  },
  {
   "cell_type": "code",
   "execution_count": 27,
   "id": "ee7e847c-28a3-41dd-b706-e17cf20f463a",
   "metadata": {},
   "outputs": [
    {
     "data": {
      "text/plain": [
       "('COMPLETEIICTORY',\n",
       " 'WETHEUNDRRSIGNEDPRISONEESOFWARBELONGINTTOTHEARMYOFNORGHERNVIRGINIAHAIINGBEENTHISDAYFURRENDEREDBYGEAERALROBERTELEEPOMMANDINGSAIDAEMYTOLIEUTENANTTENERALULYSSESSTRANTCOMMANDINGNRMIESOFUNITEDSGATESDOHEREBYGIIEOURSOLEMNPAROYEOFHONORTHATWEJILLNOTHEREAFTEESERVEINTHEARMIRSOFTHECONFEDERNTESTATESORINANLMILITARYCAPACIGYWHATEVERAGAINFTTHEUNITEDSTATRSOFAMERICAORREADERSAIDTOTHEENRMIESOFTHELATTEEUNTILPROPERTYEKCHANGEDINSUCHMNNNERASSHALLBEMHTUALLYAPPROVEDOYTHERESPECTIVENUTHORITIES')"
      ]
     },
     "execution_count": 27,
     "metadata": {},
     "output_type": "execute_result"
    }
   ],
   "source": [
    "ciphertext = cleanstring(\"\"\"\n",
    "    YSFWPYGHZZUBUECFDDXDSGIMAQYKRPDSXDYKBRBBQMVVYTAKDQRHVOPGKBMG\n",
    "    TUUCTEAEQQPZPVCPHTXDHTCNCTKSEBGFQSMCZIIMTTZIMDSDIPPXIXWOFOEB\n",
    "    KBSHLMWEMUAMCCGGIFTYEGXBMPXFRJWZKHDILWBZCGHTMOAMCOMGKVZOBSJM\n",
    "    HIZXEIWWOIVXGUMJSDTMCZMQMQNFJMNSYCAEKSGMQYVFLQFFWLXPIRQNEBFR\n",
    "    JSDTLJMIMAGKJVGPHTTLVFMZAQYHYCECZUPHXVVBGLHRRGGAGTRTRTUKEWKY\n",
    "    TMOPAEVMOGYAOKCXSDPREBRNBVASLLKHQSDXTXZAQYODCTWOPZVKIILGKGRG\n",
    "    FHAISIXRZUKXGFDVVQALXMIMCPMWCNTCBTCXRISKJTBXCFWZHFGAQVVPXFRQ\n",
    "    UVMAWFXQPBWTZCWCDBGZZXHWGVASICUDQREMOIVCVACIGVWQH\n",
    "\"\"\")\n",
    "vigenere_crack(ciphertext)"
   ]
  },
  {
   "cell_type": "markdown",
   "id": "066614de-7734-463f-8665-3124befe114b",
   "metadata": {},
   "source": [
    "### The above example *almost* worked perfectly. \n",
    "\n",
    "In this case, the plaintext was encrypted with a 15-letter key, and the ciphertext just isn't long enough for a fully automated attack based strictly on letter frequencies to work with a key that long. However, the result is close enough to be able to easily figure out the one incorrect letter in the key! \n"
   ]
  },
  {
   "cell_type": "markdown",
   "id": "6a677787-c578-473a-9d87-bd46bbbc25bc",
   "metadata": {},
   "source": [
    "<br>\n",
    "<br>\n",
    "<br>\n",
    "<br>\n",
    "<br>\n",
    "\n",
    "<br>\n",
    "<br>\n",
    "<br>\n",
    "<br>\n",
    "<br>\n",
    "\n",
    "# Basic number theory functions"
   ]
  },
  {
   "cell_type": "markdown",
   "id": "80795fc3-d59e-4e8c-8cf8-3e15e1fb5f0f",
   "metadata": {},
   "source": [
    "## GCDs, the Extended Euclidean Algorithm, and one immediate application of it"
   ]
  },
  {
   "cell_type": "code",
   "execution_count": 29,
   "id": "3af22b1a-d098-4408-b060-7f16e596aa5d",
   "metadata": {},
   "outputs": [],
   "source": [
    "from math116 import gcd, euclidean, inverse"
   ]
  },
  {
   "cell_type": "code",
   "execution_count": 47,
   "id": "85d216d3-2147-4e03-b87e-1a77b254a289",
   "metadata": {},
   "outputs": [
    {
     "name": "stdout",
     "output_type": "stream",
     "text": [
      "Help on function gcd in module math116:\n",
      "\n",
      "gcd(a, b)\n",
      "    Returns the GCD of a and b\n",
      "\n"
     ]
    }
   ],
   "source": [
    "# Do the “basic” Euclidean algorithm, i.e. just compute the gcd\n",
    "help(gcd)"
   ]
  },
  {
   "cell_type": "code",
   "execution_count": 48,
   "id": "3c7abfde-164f-40db-9f08-47f6f2132662",
   "metadata": {},
   "outputs": [
    {
     "data": {
      "text/plain": [
       "14"
      ]
     },
     "execution_count": 48,
     "metadata": {},
     "output_type": "execute_result"
    }
   ],
   "source": [
    "gcd(42, 182)"
   ]
  },
  {
   "cell_type": "code",
   "execution_count": 49,
   "id": "e9a8797e-e9e7-4f15-b45f-b24c498e53c5",
   "metadata": {},
   "outputs": [
    {
     "data": {
      "text/plain": [
       "14"
      ]
     },
     "execution_count": 49,
     "metadata": {},
     "output_type": "execute_result"
    }
   ],
   "source": [
    "gcd(-42, 182)"
   ]
  },
  {
   "cell_type": "code",
   "execution_count": 50,
   "id": "bfb6b381-063a-4f46-a373-8cdf3877920a",
   "metadata": {},
   "outputs": [
    {
     "data": {
      "text/plain": [
       "14"
      ]
     },
     "execution_count": 50,
     "metadata": {},
     "output_type": "execute_result"
    }
   ],
   "source": [
    "gcd(42, -182)"
   ]
  },
  {
   "cell_type": "code",
   "execution_count": 51,
   "id": "3b7f6c1b-00b9-4fc0-b63b-5bb92bc66442",
   "metadata": {},
   "outputs": [
    {
     "name": "stdout",
     "output_type": "stream",
     "text": [
      "Help on function euclidean in module math116:\n",
      "\n",
      "euclidean(a, b)\n",
      "    Returns g, x, y, such that g = gcd(a, b) and ax + by = g\n",
      "\n"
     ]
    }
   ],
   "source": [
    "# Do the Extended Euclidean Algorithm\n",
    "help(euclidean)"
   ]
  },
  {
   "cell_type": "code",
   "execution_count": 52,
   "id": "05e1414c-fab0-486e-bd14-0c59148974eb",
   "metadata": {},
   "outputs": [
    {
     "data": {
      "text/plain": [
       "(14, -4, 1)"
      ]
     },
     "execution_count": 52,
     "metadata": {},
     "output_type": "execute_result"
    }
   ],
   "source": [
    "euclidean(42, 182)"
   ]
  },
  {
   "cell_type": "code",
   "execution_count": 55,
   "id": "a72643b1-90fa-4c9f-b1ae-afac3da6e83f",
   "metadata": {},
   "outputs": [
    {
     "name": "stdout",
     "output_type": "stream",
     "text": [
      "gcd(42, 182) = 14, and, like, oh my gosh, 42×(-4) + 182×(1) = 14. Wowie!\n"
     ]
    }
   ],
   "source": [
    "g, x, y = euclidean(42, 182)\n",
    "print(f\"gcd(42, 182) = {g}, and, like, oh my gosh, 42×({x}) + 182×({y}) = {42*x + 182*y}. Wowie!\")"
   ]
  },
  {
   "cell_type": "code",
   "execution_count": 56,
   "id": "7ac0dbab-64b1-46ec-aca2-0605d6f8d113",
   "metadata": {},
   "outputs": [
    {
     "name": "stdout",
     "output_type": "stream",
     "text": [
      "Help on function inverse in module math116:\n",
      "\n",
      "inverse(a, n)\n",
      "    Returns the inverse of a modulo n, raises ValueError if not coprime\n",
      "\n"
     ]
    }
   ],
   "source": [
    "# Compute the multiplicative inverse of a (mod n)\n",
    "help(inverse)"
   ]
  },
  {
   "cell_type": "code",
   "execution_count": 57,
   "id": "118d0c99-1f8c-4fa2-a343-fc31758854aa",
   "metadata": {},
   "outputs": [
    {
     "data": {
      "text/plain": [
       "7"
      ]
     },
     "execution_count": 57,
     "metadata": {},
     "output_type": "execute_result"
    }
   ],
   "source": [
    "inverse(15, 26)"
   ]
  },
  {
   "cell_type": "code",
   "execution_count": 58,
   "id": "008a92db-ddab-4c26-bff9-235745226106",
   "metadata": {},
   "outputs": [
    {
     "data": {
      "text/plain": [
       "1"
      ]
     },
     "execution_count": 58,
     "metadata": {},
     "output_type": "execute_result"
    }
   ],
   "source": [
    "7 * 15 % 26"
   ]
  },
  {
   "cell_type": "code",
   "execution_count": null,
   "id": "d440599b-7fc0-4e78-94bf-5ba6a16800ce",
   "metadata": {},
   "outputs": [],
   "source": [
    "inverse(6, 26) # Should raise a ValueError!"
   ]
  },
  {
   "cell_type": "code",
   "execution_count": null,
   "id": "179b74ab-3b9b-41e0-b1cf-ef0ec72f6c55",
   "metadata": {},
   "outputs": [],
   "source": []
  }
 ],
 "metadata": {
  "kernelspec": {
   "display_name": "Python 3 (ipykernel)",
   "language": "python",
   "name": "python3"
  },
  "language_info": {
   "codemirror_mode": {
    "name": "ipython",
    "version": 3
   },
   "file_extension": ".py",
   "mimetype": "text/x-python",
   "name": "python",
   "nbconvert_exporter": "python",
   "pygments_lexer": "ipython3",
   "version": "3.11.2"
  }
 },
 "nbformat": 4,
 "nbformat_minor": 5
}

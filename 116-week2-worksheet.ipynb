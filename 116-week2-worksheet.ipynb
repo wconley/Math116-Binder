{
 "cells": [
  {
   "cell_type": "code",
   "execution_count": 1,
   "id": "a68ba63b-d123-48bc-8bfb-de79c43ddfab",
   "metadata": {},
   "outputs": [],
   "source": [
    "from itertools import cycle\n",
    "from collections import Counter\n",
    "\n",
    "# given functions\n",
    "\n",
    "def tonum(char):\n",
    "    \"Converts a letter of the alphabet into a number in the range 0..25\"\n",
    "    return ord(char) - 65 # 65 is the ASCII code for the letter A\n",
    "    \n",
    "def tochar(num):\n",
    "    \"Converts a number in the range 0..25 into a letter of the alphabet\"\n",
    "    return chr(num + 65) # 65 is the ASCII code for the letter A\n",
    "\n",
    "def clean_string(string):\n",
    "    return \"\".join([c for c in string.upper() if \"A\" <= c <= \"Z\"])\n",
    "\n",
    "# Problem 1 functions\n",
    "\n",
    "def encrypt_char(key, letter):\n",
    "    \"Shifts the given letter forward by the number of letters indicated by the key\"\n",
    "    return tochar((tonum(letter) + key) % 26) # We add key value to the number corresponding\n",
    "                                              # to the letter, reduce mod 26 to make sure\n",
    "                                              # we have a valid argument for tochar, and\n",
    "                                              # return the resulting letter\n",
    "\n",
    "def decrypt_char(key, letter):\n",
    "    \"Shifts the given letter backward by the number of letters indicated by the key\"\n",
    "    return tochar((tonum(letter) - key) % 26) # Same process to encrypt_char with subtraction\n",
    "                                              # instead of addition\n",
    "\n",
    "def caesar_encrypt(key, msg):\n",
    "    \"Encrypts a given message using a Caesar cipher of the specified key\"\n",
    "    msg = clean_string(msg) # We need a string of all capital letters for the encryption to work properly\n",
    "    ciphertext = \"\" # We build the ciphertext up letter by letter; it starts out empty\n",
    "    for i in msg: # Go through every letter in the cleaned plaintext, encrypt it, and add it to ciphertext\n",
    "        ciphertext += encrypt_char(key, i) \n",
    "    return ciphertext\n",
    "\n",
    "def known_caesar_decrypt(key, msg):\n",
    "    \"Decrypts a given message using a Caesar cipher of the specified (known) key\"\n",
    "    # No need to use clean_string here, since we're assuming a standardized ciphertext format\n",
    "    plaintext = \"\" # Method is otherwise the same as caesar_encrypt, just shifting the other way\n",
    "    for i in msg:\n",
    "        plaintext += decrypt_char(key, i)\n",
    "    return plaintext\n",
    "\n",
    "# Problem 2 functions\n",
    "\n",
    "def vigenere_encrypt(key, msg):\n",
    "    \"Encrypts a given message using a Vigenere cipher with the provided key\"\n",
    "    msg = clean_string(msg) \n",
    "    key_cycle = cycle(key) # See 2 Jupyter blocks down for a quick demonstration of how cycle works\n",
    "                           # In short, we can now loop through our key as many times as needed to encrypt the entire plaintext\n",
    "    key_char_pairs = zip(key_cycle, msg) # The \"zip\" here pairs up letters in the key with their corresponding plaintext letters\n",
    "    ciphertext = \"\" # Build up ciphertext one character at a time, as we did with Caesar cipher\n",
    "    for pair in key_char_pairs:\n",
    "        next_letter = encrypt_char(tonum(pair[0]), pair[1]) # \"Add\" key letter to plaintext letter\n",
    "        ciphertext += next_letter\n",
    "    return ciphertext\n",
    "\n",
    "def vigenere_decrypt(key, msg):\n",
    "    \"Decrypts a given message using a Vigenere cipher with the provided (known) key\"\n",
    "    key_cycle = cycle(key) # As with the Caesar cipher, the decryption function is pretty much the same as the encryption function\n",
    "    key_char_pairs = zip(key_cycle, msg)\n",
    "    plaintext = \"\"\n",
    "    for pair in key_char_pairs:\n",
    "        next_letter = decrypt_char(tonum(pair[0]), pair[1]) # But decrypt instead of encrypt\n",
    "        plaintext += next_letter\n",
    "    return plaintext\n",
    "\n",
    "# No functions needed for problem 3, but see a few Jupyter blocks down for a solution\n",
    "\n",
    "# Problem 4 doesn't require new functions. See code block below for solution.\n",
    "# However, the general process can be quickly wrapped up into a function, which we provide here.\n",
    "\n",
    "def naive_caesar_decrypt(ciphertext): # \"naive\" since the most common letter might *not* be E!\n",
    "    \"Performs Caesar cipher shift on provided text, assuming its most common letter corresponds to 'E'\"\n",
    "    ciphertext_counter = Counter(ciphertext) # The Counter object contains all numbers of occurrences of characters,\n",
    "                                             # and it knows characters that don't occur appeared 0 times (as opposed to a dictionary)\n",
    "    most_common_letter = max(ciphertext_counter, key=lambda key: ciphertext_counter[key]) # Clever, quick way to grab the most common letter, taken from StackOverflow\n",
    "    return known_caesar_decrypt(tonum(most_common_letter) - 4, ciphertext) # Subtract 4 since that's the number corresponding to E\n",
    "\n",
    "# Problem 5 could be put into a function using a more sophisticated method of breaking the Vigenere cipher.\n",
    "# I don't want to do that right now, so see the cell below for the ad hoc solution."
   ]
  },
  {
   "cell_type": "code",
   "execution_count": 2,
   "id": "8aed2a51-f312-4303-b218-a054293ac0a4",
   "metadata": {},
   "outputs": [
    {
     "name": "stdout",
     "output_type": "stream",
     "text": [
      "B\n",
      "B\n",
      "Z\n",
      "A\n",
      "A\n",
      "A\n",
      "EEEEEEEEE\n",
      "IDONTTHINKWECANTRUSTEVE\n"
     ]
    }
   ],
   "source": [
    "# Problem 1 testing\n",
    "print(encrypt_char(1, \"A\"))\n",
    "print(encrypt_char(27, \"A\"))\n",
    "print(encrypt_char(-1, \"A\"))\n",
    "\n",
    "print(decrypt_char(1, \"B\"))\n",
    "print(decrypt_char(27, \"B\"))\n",
    "print(decrypt_char(-1, \"Z\"))\n",
    "\n",
    "print(caesar_encrypt(4, \"AAAAAAAAA\"))\n",
    "\n",
    "print(known_caesar_decrypt(19, \"BWHGMMABGDPXVTGMKNLMXOX\"))"
   ]
  },
  {
   "cell_type": "code",
   "execution_count": 3,
   "id": "d66f594f-0298-4e80-a38d-c047373a052b",
   "metadata": {},
   "outputs": [
    {
     "name": "stdout",
     "output_type": "stream",
     "text": [
      "<itertools.cycle object at 0x7fa0fefefc40>\n",
      "['J', 'U', 'M', 'P', 'J', 'U', 'M', 'P', 'J', 'U', 'M', 'P', 'J', 'U', 'M', 'P', 'J', 'U', 'M', 'P', 'J', 'U', 'M', 'P', 'J', 'U', 'M', 'P', 'J', 'U', 'M', 'P', 'J', 'U', 'M', 'P', 'J', 'U', 'M', 'P', 'J', 'U', 'M', 'P', 'J', 'U', 'M', 'P', 'J', 'U', 'M', 'P']\n",
      "[('J', 'I'), ('U', 'H'), ('M', 'O'), ('P', 'P'), ('J', 'E'), ('U', 'Y'), ('M', 'O'), ('P', 'U'), ('J', 'A'), ('U', 'R'), ('M', 'E'), ('P', 'H'), ('J', 'A'), ('U', 'V'), ('M', 'I'), ('P', 'N'), ('J', 'G'), ('U', 'A'), ('M', 'G'), ('P', 'O'), ('J', 'O'), ('U', 'D'), ('M', 'D'), ('P', 'A'), ('J', 'Y')]\n",
      "KOFXTHALFYOPWNDJBNFGNHF\n",
      "BUTIKNOWWECANTRUSTTRENT\n"
     ]
    }
   ],
   "source": [
    "# Problem 2 testing\n",
    "# Quick test to demonstrate functionality of itertools.cycle\n",
    "jump_cycle = cycle(\"JUMP\")\n",
    "print(jump_cycle) # Some abstract \"cycle\" object\n",
    "\n",
    "i = 0 # Initialize a counter to prevent infinite looping\n",
    "cycle_list = [] # We'll put letters from the cycle in here and print the result at the end\n",
    "for letter in jump_cycle: # A \"cycle\" is an iterable, so we can use it to create for loops easily\n",
    "                          # We'll get 52 letters from the cycle and put them in a list together\n",
    "    cycle_list += [letter] # Append current letter to the list\n",
    "    i += 1 # Update counter\n",
    "    if i > 51: # After letter number 52 (= 51 + 1), exit the for loop--this is what \"break\" does!\n",
    "        break\n",
    "\n",
    "print(cycle_list) # Our list has 13 copies of the word \"JUMP\"! We could have stopped this loop whenever. Try changing the number in the \"if\" statement to see this!\n",
    "\n",
    "# Quick test to demonstrate functionality of zip()\n",
    "test_msg = \"IHOPEYOUAREHAVINGAGOODDAY\"\n",
    "print(list(zip(jump_cycle, test_msg))) # Why are we doing this? The cycle object can go on forever, but zip()\n",
    "                                       # matches each letter in the cycle up with the corresponding letter in\n",
    "                                       # the given text and stops automatically at the end of the message!\n",
    "                                       # Note that without the list() call we would've just seen a reference to\n",
    "                                       # an abstract \"zip\" object.\n",
    "\n",
    "# Test of the encryption function\n",
    "\n",
    "print(vigenere_encrypt(\"JUMP\", \"BUTIKNOWWECANTRUSTTRENT\"))\n",
    "\n",
    "# Test of the decryption function\n",
    "\n",
    "print(vigenere_decrypt(\"JUMP\", \"KOFXTHALFYOPWNDJBNFGNHF\"))\n"
   ]
  },
  {
   "cell_type": "code",
   "execution_count": 4,
   "id": "b771f411-4ee6-4709-936e-db0d80ecf618",
   "metadata": {},
   "outputs": [
    {
     "name": "stdout",
     "output_type": "stream",
     "text": [
      "Counter({'t': 3, 's': 3, ' ': 3, 'i': 2, 'h': 1, 'a': 1, 'e': 1})\n",
      "0\n"
     ]
    }
   ],
   "source": [
    "# Problem 3\n",
    "test_counter = Counter(\"this is a test\")\n",
    "print(test_counter) # Returns a Counter object with (visible) keys the characters occurring and values the number of occurrences\n",
    "print(test_counter[\"z\"]) # Counters are more convenient than dictionaries for frequency analysis, since a character that doesn't occur will\n",
    "                         # automatically be given a value of \"0\""
   ]
  },
  {
   "cell_type": "code",
   "execution_count": 5,
   "id": "8a6d06a5-dd98-4cfd-b2ca-73bd8a48d8db",
   "metadata": {},
   "outputs": [
    {
     "name": "stdout",
     "output_type": "stream",
     "text": [
      "Q\n",
      "WETHEPEOPLEOFTHEUNITEDSTATESINORDERTOFORMAMOREPERFECTUNIONESTABLISHJUSTICEINSUREDOMESTICTRANQUILITYPROVIDEFORTHECOMMONDEFENCEPROMOTETHEGENERALWELFAREANDSECURETHEBLESSINGSOFLIBERTYTOOURSELVESANDOURPOSTERITYDOORDAINANDESTABLISHTHISCONSTITUTIONFORTHEUNITEDSTATESOFAMERICA\n",
      "WETHEPEOPLEOFTHEUNITEDSTATESINORDERTOFORMAMOREPERFECTUNIONESTABLISHJUSTICEINSUREDOMESTICTRANQUILITYPROVIDEFORTHECOMMONDEFENCEPROMOTETHEGENERALWELFAREANDSECURETHEBLESSINGSOFLIBERTYTOOURSELVESANDOURPOSTERITYDOORDAINANDESTABLISHTHISCONSTITUTIONFORTHEUNITEDSTATESOFAMERICA\n"
     ]
    }
   ],
   "source": [
    "# Problem 4\n",
    "ciphertext = \"IQFTQBQABXQARFTQGZUFQPEFMFQEUZADPQDFARADYMYADQBQDRQOFGZUAZQEFMNXUETVGEFUOQUZEGDQPAYQEFUOFDMZCGUXUFKBDAHUPQRADFTQOAYYAZPQRQZOQBDAYAFQFTQSQZQDMXIQXRMDQMZPEQOGDQFTQNXQEEUZSEARXUNQDFKFAAGDEQXHQEMZPAGDBAEFQDUFKPAADPMUZMZPQEFMNXUETFTUEOAZEFUFGFUAZRADFTQGZUFQPEFMFQEARMYQDUOM\"\n",
    "ciphertext_counter = Counter(ciphertext)\n",
    "most_common_letter = max(ciphertext_counter, key=lambda key: ciphertext_counter[key]) # Obtains letter with most occurrences. Technically what's happening is we tell\n",
    "                                                                                      # Python to sort the counter by number of occurrences and take the first result\n",
    "print(most_common_letter) # Whatever this most common letter is, it's likely to correspond to \"E\"\n",
    "plaintext = known_caesar_decrypt(tonum(most_common_letter) - 4, ciphertext) # Decrypt using key corresponding to most common letter. The \"- 4\" comes from the fact that most common letter corresponds to \"E\"\n",
    "print(plaintext) # We get the the first sentence of the preamble to the U.S. Constitution!\n",
    "\n",
    "print(naive_caesar_decrypt(ciphertext)) # Testing the function version of our code above"
   ]
  },
  {
   "cell_type": "code",
   "execution_count": 8,
   "id": "3cb49619-ab6f-4e34-9a37-6a661eabc7d1",
   "metadata": {},
   "outputs": [
    {
     "name": "stdout",
     "output_type": "stream",
     "text": [
      "[('A', 13), ('J', 9), ('O', 8), ('D', 8), ('W', 6), ('H', 5), ('P', 5), ('S', 4), ('K', 3), ('C', 3), ('Y', 3), ('E', 3), ('B', 2), ('Z', 2), ('N', 2), ('X', 1)]\n",
      "[('B', 10), ('M', 9), ('P', 7), ('T', 6), ('A', 6), ('Q', 6), ('V', 5), ('I', 5), ('N', 4), ('E', 4), ('O', 4), ('W', 3), ('K', 2), ('L', 2), ('Z', 2), ('U', 1), ('C', 1)]\n",
      "[('R', 9), ('Y', 7), ('A', 7), ('U', 7), ('G', 6), ('N', 6), ('Q', 5), ('E', 5), ('S', 4), ('V', 4), ('F', 3), ('T', 3), ('J', 3), ('B', 3), ('H', 2), ('P', 1), ('I', 1)]\n",
      "[('J', 9), ('G', 9), ('K', 8), ('N', 7), ('U', 6), ('P', 6), ('I', 5), ('C', 5), ('Q', 4), ('T', 4), ('V', 3), ('Y', 3), ('F', 3), ('H', 1), ('X', 1), ('A', 1), ('D', 1)]\n",
      "WPSDAWLCOZNPOEHAEYDSEDHWLWFEGSTENQRWNNESEDHWLWFEGSTKNEHASPAOAYDKCPAJSHEOHLLHFTGDTHIPHRRKWTNCCZNBIOEJCPAJDRRKWTNCSERANRTDIYTDELINWPSDAWLZEQEJDZUNIDLWNOWDAEERECTDENOOTXAUBPWASSAHLQICHEOJTSEXELCDEDWASSAHLQICHEOJTSEHAYDENRGNOFNZSHEOHLLHFTGDTTNPHPFEEWDOAYDENEHASERAEESSEDHWLWFEGSTENEHAHTLHSHEOHLLHNPVARDUNRPNZEC\n",
      "WESDALLCOONPOTHAENDSESHWLLFEGHTENFRWNCESESHWLLFEGHTKNTHASEAOANDKCEAJSWEOHALHFIGDTWIPHGRKWINCCONBIDEJCEAJDGRKWINCSTRANGTDINTDEAINWESDALLZEFEJDOUNISLWNDWDATERERTDECOOTMAUBEWASHAHLFICHTOJTHEXEACDESWASHAHLFICHTOJTHEHANDENGGNOUNZSWEOHALHFIGDTINPHEFEELDOANDENTHASTRAETSSESHWLLFEGHTENTHAHILHSWEOHALHNEVARSUNRENZER\n",
      "WESHALLGOONTOTHEENDWESHALLFIGHTINFRANCEWESHALLFIGHTONTHESEASANDOCEANSWESHALLFIGHTWITHGROWINGCONFIDENCEANDGROWINGSTRENGTHINTHEAIRWESHALLDEFENDOURISLANDWHATEVERTHECOSTMAYBEWESHALLFIGHTONTHEBEACHESWESHALLFIGHTONTHELANDINGGROUNDSWESHALLFIGHTINTHEFIELDSANDINTHESTREETSWESHALLFIGHTINTHEHILLSWESHALLNEVERSURRENDER\n"
     ]
    }
   ],
   "source": [
    "# Problem 5\n",
    "ciphertext = \"SMFJWTYIKWAVKBUGAVQYAAUCHTSKCPGKJNECJKRYAAUCHTSKCPGQJBUGOMNUWVQQYMNPOERUDIYNBQTJPEVVDOEQSQAIYWAHELRPYMNPZOEQSQAIOBEGJOGJEVGJAIVTSMFJWTYFANRPZWHTEAYCJLJJWBRXAZGJAKBUPUNAXMJGOPNNHNVIDBBPPPRDAIPJAAJGOPNNHNVIDBBPPPRNWVQKJOTTKCAFOERUDIYNBQTJPQAVDMSKATQUWVQKJBUGOBEGABFYAAUCHTSKCPGKJBUGDQYNOERUDIYNJMIGNAHTNMAFAZ\"\n",
    "text_1_mod_4 = ciphertext[0::4] # Uses string slicing to get every fourth letter of the ciphertext, starting with the first.\n",
    "text_2_mod_4 = ciphertext[1::4] # Ditto for starting at the second, third, and fourth letters\n",
    "text_3_mod_4 = ciphertext[2::4] # Morally this should probably be done using a loop\n",
    "text_0_mod_4 = ciphertext[3::4]\n",
    "\n",
    "print(Counter(text_1_mod_4).most_common())\n",
    "print(Counter(text_2_mod_4).most_common())\n",
    "print(Counter(text_3_mod_4).most_common())\n",
    "print(Counter(text_0_mod_4).most_common())\n",
    "\n",
    "# Based on these frequencies, our first guess for a key would be given by subtracting 4 from each of these most frequent letters.\n",
    "# A - 4 = \"W\", B - 4 = \"X\", R - 4 = \"N\", J - 4 = \"G\"\n",
    "print(vigenere_decrypt(\"WXNG\", ciphertext)) # Still gibberish!\n",
    "\n",
    "# Try modifying second letter in key: instead of B - 4 use M - 4 = \"I\":\n",
    "print(vigenere_decrypt(\"WING\", ciphertext))\n",
    "\n",
    "# Now try modifying fourth letter: use G - 4 = \"C\" instead of \"G\":\n",
    "print(vigenere_decrypt(\"WINC\", ciphertext))"
   ]
  },
  {
   "cell_type": "code",
   "execution_count": null,
   "id": "03d168d7-747d-4d50-9ad5-4922a0ab60a3",
   "metadata": {},
   "outputs": [],
   "source": []
  }
 ],
 "metadata": {
  "kernelspec": {
   "display_name": "Python 3 (ipykernel)",
   "language": "python",
   "name": "python3"
  },
  "language_info": {
   "codemirror_mode": {
    "name": "ipython",
    "version": 3
   },
   "file_extension": ".py",
   "mimetype": "text/x-python",
   "name": "python",
   "nbconvert_exporter": "python",
   "pygments_lexer": "ipython3",
   "version": "3.11.2"
  }
 },
 "nbformat": 4,
 "nbformat_minor": 5
}
